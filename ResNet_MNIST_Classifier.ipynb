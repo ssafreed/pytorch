{
  "nbformat": 4,
  "nbformat_minor": 0,
  "metadata": {
    "colab": {
      "provenance": [],
      "gpuType": "T4",
      "authorship_tag": "ABX9TyPVq6DY+Wh0cas6Ex92FpJ2",
      "include_colab_link": true
    },
    "kernelspec": {
      "name": "python3",
      "display_name": "Python 3"
    },
    "language_info": {
      "name": "python"
    },
    "accelerator": "GPU"
  },
  "cells": [
    {
      "cell_type": "markdown",
      "metadata": {
        "id": "view-in-github",
        "colab_type": "text"
      },
      "source": [
        "<a href=\"https://colab.research.google.com/github/ssafreed/pytorch/blob/main/ResNet_MNIST_Classifier.ipynb\" target=\"_parent\"><img src=\"https://colab.research.google.com/assets/colab-badge.svg\" alt=\"Open In Colab\"/></a>"
      ]
    },
    {
      "cell_type": "code",
      "source": [
        "!pip install torchview"
      ],
      "metadata": {
        "colab": {
          "base_uri": "https://localhost:8080/"
        },
        "id": "0DR5eX6lI_rb",
        "outputId": "9a664abc-0b8a-4e8f-af68-e3ce8e81d56e"
      },
      "execution_count": 2,
      "outputs": [
        {
          "output_type": "stream",
          "name": "stdout",
          "text": [
            "Collecting torchview\n",
            "  Downloading torchview-0.2.6-py3-none-any.whl.metadata (12 kB)\n",
            "Downloading torchview-0.2.6-py3-none-any.whl (25 kB)\n",
            "Installing collected packages: torchview\n",
            "Successfully installed torchview-0.2.6\n"
          ]
        }
      ]
    },
    {
      "cell_type": "code",
      "execution_count": 3,
      "metadata": {
        "id": "vefeRga4zfbd"
      },
      "outputs": [],
      "source": [
        "import torch.nn as nn\n",
        "import torch\n",
        "from torchview import draw_graph"
      ]
    },
    {
      "cell_type": "code",
      "source": [
        "class ResidualBlock(nn.Module):\n",
        "    def __init__(self, in_channels, out_channels, stride=1):\n",
        "        super(ResidualBlock, self).__init__()\n",
        "\n",
        "        self.conv1 = nn.Sequential(\n",
        "            nn.Conv2d(in_channels=in_channels, out_channels=out_channels, kernel_size=3, stride=stride, padding=1),\n",
        "            nn.BatchNorm2d(out_channels),\n",
        "            nn.ReLU()\n",
        "        )\n",
        "        self.conv2 = nn.Sequential(\n",
        "            nn.Conv2d(out_channels, out_channels, kernel_size=3, stride=1, padding=1),\n",
        "            nn.BatchNorm2d(out_channels),\n",
        "        )\n",
        "\n",
        "        self.downsample = None\n",
        "\n",
        "        if stride != 1 or in_channels != out_channels:\n",
        "            self.downsample = nn.Sequential(\n",
        "                nn.Conv2d(in_channels, out_channels=out_channels, kernel_size=1, stride=stride),\n",
        "                nn.BatchNorm2d(out_channels)\n",
        "            )\n",
        "\n",
        "        self.relu = nn.ReLU()\n",
        "\n",
        "        self.out_channels = out_channels\n",
        "\n",
        "\n",
        "    def forward(self, x):\n",
        "        residual = x\n",
        "        out = self.conv1(x)\n",
        "        out = self.conv2(out)\n",
        "        if self.downsample:\n",
        "            residual = self.downsample(x)\n",
        "\n",
        "        out += residual\n",
        "        out = self.relu(out)\n",
        "        return out"
      ],
      "metadata": {
        "id": "9RW4F3Kozrgp"
      },
      "execution_count": 4,
      "outputs": []
    },
    {
      "cell_type": "code",
      "source": [
        "class ResNet18(nn.Module):\n",
        "    def __init__(self, block, layers, num_classes=1000):\n",
        "        super(ResNet18,self).__init__()\n",
        "\n",
        "        self.in_channels = 64\n",
        "        self.conv1 = nn.Sequential(\n",
        "            nn.Conv2d(in_channels=3, out_channels=64, kernel_size=7, stride=2, padding=3),\n",
        "            nn.BatchNorm2d(64),\n",
        "            nn.ReLU()\n",
        "        )\n",
        "\n",
        "        self.maxpool = nn.MaxPool2d(kernel_size=3, stride=2, padding=1)\n",
        "\n",
        "        self.avgpool = nn.AvgPool2d(7, stride=1)\n",
        "\n",
        "        self.layer0 = self._make_layer(block, 64, layers[0], stride=1)\n",
        "        self.layer1 = self._make_layer(block, 128, layers[1], stride=2)\n",
        "        self.layer2 = self._make_layer(block, 256, layers[2], stride=2)\n",
        "        self.layer3 = self._make_layer(block, 512, layers[3], stride=2)\n",
        "        self.fc = nn.Linear(512, num_classes)\n",
        "\n",
        "\n",
        "    def _make_layer(self, block, out_channels, num_blocks, stride=1):\n",
        "        layers = []\n",
        "        layers.append(block(self.in_channels, out_channels, stride))\n",
        "        self.in_channels = out_channels\n",
        "\n",
        "        for i in range(1,num_blocks):\n",
        "            layers.append(block(self.in_channels, out_channels))\n",
        "\n",
        "        return nn.Sequential(*layers)\n",
        "\n",
        "    def forward(self, x):\n",
        "        x = self.conv1(x)\n",
        "        x = self.maxpool(x)\n",
        "        x = self.layer0(x)\n",
        "        x = self.layer1(x)\n",
        "        x = self.layer2(x)\n",
        "        x = self.layer3(x)\n",
        "\n",
        "        x = self.avgpool(x)\n",
        "        x = x.view(x.size(0),-1)\n",
        "\n",
        "        return x\n"
      ],
      "metadata": {
        "id": "gAIEe7983JPO"
      },
      "execution_count": 5,
      "outputs": []
    },
    {
      "cell_type": "code",
      "source": [
        "model = ResNet18(ResidualBlock, [2,2,2,2])"
      ],
      "metadata": {
        "id": "VtSxri5a7n9h"
      },
      "execution_count": 6,
      "outputs": []
    },
    {
      "cell_type": "code",
      "source": [
        "draw_graph(model, input_size=(1,3,224,224), expand_nested=True).visual_graph"
      ],
      "metadata": {
        "colab": {
          "base_uri": "https://localhost:8080/",
          "height": 1000
        },
        "id": "aeu6ikt973Iq",
        "outputId": "3cdd3732-acad-4132-e924-2473e2eb3de6"
      },
      "execution_count": 7,
      "outputs": [
        {
          "output_type": "execute_result",
          "data": {
            "image/svg+xml": "<?xml version=\"1.0\" encoding=\"UTF-8\" standalone=\"no\"?>\n<!DOCTYPE svg PUBLIC \"-//W3C//DTD SVG 1.1//EN\"\n \"http://www.w3.org/Graphics/SVG/1.1/DTD/svg11.dtd\">\n<!-- Generated by graphviz version 2.43.0 (0)\n -->\n<!-- Title: model Pages: 1 -->\n<svg width=\"552pt\" height=\"2851pt\"\n viewBox=\"0.00 0.00 551.58 2851.00\" xmlns=\"http://www.w3.org/2000/svg\" xmlns:xlink=\"http://www.w3.org/1999/xlink\">\n<g id=\"graph0\" class=\"graph\" transform=\"scale(0.87 0.87) rotate(0) translate(4 3273)\">\n<title>model</title>\n<polygon fill=\"white\" stroke=\"transparent\" points=\"-4,4 -4,-3273 630,-3273 630,4 -4,4\"/>\n<g id=\"clust1\" class=\"cluster\">\n<title>cluster_2</title>\n<polygon fill=\"none\" stroke=\"black\" stroke-dasharray=\"5,2\" points=\"9,-2994 9,-3229 281,-3229 281,-2994 9,-2994\"/>\n<text text-anchor=\"middle\" x=\"42\" y=\"-3215.4\" font-family=\"Times,serif\" font-size=\"12.00\">Sequential</text>\n</g>\n<g id=\"clust2\" class=\"cluster\">\n<title>cluster_3</title>\n<polygon fill=\"none\" stroke=\"black\" stroke-dasharray=\"5,2\" points=\"8,-2245 8,-2916 290,-2916 290,-2245 8,-2245\"/>\n<text text-anchor=\"middle\" x=\"41\" y=\"-2902.4\" font-family=\"Times,serif\" font-size=\"12.00\">Sequential</text>\n</g>\n<g id=\"clust3\" class=\"cluster\">\n<title>cluster_4</title>\n<polygon fill=\"none\" stroke=\"black\" stroke-dasharray=\"5,2\" points=\"17,-2574 17,-2887 277,-2887 277,-2574 17,-2574\"/>\n<text text-anchor=\"middle\" x=\"60\" y=\"-2873.4\" font-family=\"Times,serif\" font-size=\"12.00\">ResidualBlock</text>\n</g>\n<g id=\"clust4\" class=\"cluster\">\n<title>cluster_5</title>\n<polygon fill=\"none\" stroke=\"black\" stroke-dasharray=\"5,2\" points=\"16,-2253 16,-2566 276,-2566 276,-2253 16,-2253\"/>\n<text text-anchor=\"middle\" x=\"59\" y=\"-2552.4\" font-family=\"Times,serif\" font-size=\"12.00\">ResidualBlock</text>\n</g>\n<g id=\"clust5\" class=\"cluster\">\n<title>cluster_6</title>\n<polygon fill=\"none\" stroke=\"black\" stroke-dasharray=\"5,2\" points=\"8,-1566 8,-2237 545,-2237 545,-1566 8,-1566\"/>\n<text text-anchor=\"middle\" x=\"41\" y=\"-2223.4\" font-family=\"Times,serif\" font-size=\"12.00\">Sequential</text>\n</g>\n<g id=\"clust6\" class=\"cluster\">\n<title>cluster_7</title>\n<polygon fill=\"none\" stroke=\"black\" stroke-dasharray=\"5,2\" points=\"16,-1895 16,-2208 537,-2208 537,-1895 16,-1895\"/>\n<text text-anchor=\"middle\" x=\"59\" y=\"-2194.4\" font-family=\"Times,serif\" font-size=\"12.00\">ResidualBlock</text>\n</g>\n<g id=\"clust7\" class=\"cluster\">\n<title>cluster_8</title>\n<polygon fill=\"none\" stroke=\"black\" stroke-dasharray=\"5,2\" points=\"132,-1574 132,-1887 398,-1887 398,-1574 132,-1574\"/>\n<text text-anchor=\"middle\" x=\"175\" y=\"-1873.4\" font-family=\"Times,serif\" font-size=\"12.00\">ResidualBlock</text>\n</g>\n<g id=\"clust8\" class=\"cluster\">\n<title>cluster_9</title>\n<polygon fill=\"none\" stroke=\"black\" stroke-dasharray=\"5,2\" points=\"81,-887 81,-1558 618,-1558 618,-887 81,-887\"/>\n<text text-anchor=\"middle\" x=\"114\" y=\"-1544.4\" font-family=\"Times,serif\" font-size=\"12.00\">Sequential</text>\n</g>\n<g id=\"clust9\" class=\"cluster\">\n<title>cluster_10</title>\n<polygon fill=\"none\" stroke=\"black\" stroke-dasharray=\"5,2\" points=\"89,-1216 89,-1529 610,-1529 610,-1216 89,-1216\"/>\n<text text-anchor=\"middle\" x=\"132\" y=\"-1515.4\" font-family=\"Times,serif\" font-size=\"12.00\">ResidualBlock</text>\n</g>\n<g id=\"clust10\" class=\"cluster\">\n<title>cluster_11</title>\n<polygon fill=\"none\" stroke=\"black\" stroke-dasharray=\"5,2\" points=\"90,-895 90,-1208 356,-1208 356,-895 90,-895\"/>\n<text text-anchor=\"middle\" x=\"133\" y=\"-1194.4\" font-family=\"Times,serif\" font-size=\"12.00\">ResidualBlock</text>\n</g>\n<g id=\"clust11\" class=\"cluster\">\n<title>cluster_12</title>\n<polygon fill=\"none\" stroke=\"black\" stroke-dasharray=\"5,2\" points=\"17,-208 17,-879 541,-879 541,-208 17,-208\"/>\n<text text-anchor=\"middle\" x=\"50\" y=\"-865.4\" font-family=\"Times,serif\" font-size=\"12.00\">Sequential</text>\n</g>\n<g id=\"clust12\" class=\"cluster\">\n<title>cluster_13</title>\n<polygon fill=\"none\" stroke=\"black\" stroke-dasharray=\"5,2\" points=\"25,-537 25,-850 533,-850 533,-537 25,-537\"/>\n<text text-anchor=\"middle\" x=\"68\" y=\"-836.4\" font-family=\"Times,serif\" font-size=\"12.00\">ResidualBlock</text>\n</g>\n<g id=\"clust13\" class=\"cluster\">\n<title>cluster_14</title>\n<polygon fill=\"none\" stroke=\"black\" stroke-dasharray=\"5,2\" points=\"87,-216 87,-529 341,-529 341,-216 87,-216\"/>\n<text text-anchor=\"middle\" x=\"130\" y=\"-515.4\" font-family=\"Times,serif\" font-size=\"12.00\">ResidualBlock</text>\n</g>\n<!-- 0 -->\n<g id=\"node1\" class=\"node\">\n<title>0</title>\n<polygon fill=\"lightyellow\" stroke=\"transparent\" points=\"240,-3269 50,-3269 50,-3237 240,-3237 240,-3269\"/>\n<polygon fill=\"none\" stroke=\"black\" points=\"50,-3237 50,-3269 133,-3269 133,-3237 50,-3237\"/>\n<text text-anchor=\"start\" x=\"55\" y=\"-3256\" font-family=\"Linux libertine\" font-size=\"10.00\">input&#45;tensor</text>\n<text text-anchor=\"start\" x=\"70\" y=\"-3245\" font-family=\"Linux libertine\" font-size=\"10.00\">depth:0</text>\n<polygon fill=\"none\" stroke=\"black\" points=\"133,-3237 133,-3269 240,-3269 240,-3237 133,-3237\"/>\n<text text-anchor=\"start\" x=\"138\" y=\"-3250.5\" font-family=\"Linux libertine\" font-size=\"10.00\">(1, 3, 224, 224)</text>\n</g>\n<!-- 1 -->\n<g id=\"node2\" class=\"node\">\n<title>1</title>\n<polygon fill=\"#c1ffc1\" stroke=\"transparent\" points=\"260.5,-3200 29.5,-3200 29.5,-3158 260.5,-3158 260.5,-3200\"/>\n<polygon fill=\"none\" stroke=\"black\" points=\"30,-3158 30,-3200 83,-3200 83,-3158 30,-3158\"/>\n<text text-anchor=\"start\" x=\"38\" y=\"-3182\" font-family=\"Linux libertine\" font-size=\"10.00\">Conv2d</text>\n<text text-anchor=\"start\" x=\"35\" y=\"-3171\" font-family=\"Linux libertine\" font-size=\"10.00\">depth:2</text>\n<polygon fill=\"none\" stroke=\"black\" points=\"83,-3179 83,-3200 142,-3200 142,-3179 83,-3179\"/>\n<text text-anchor=\"start\" x=\"94\" y=\"-3187\" font-family=\"Linux libertine\" font-size=\"10.00\">input:</text>\n<polygon fill=\"none\" stroke=\"black\" points=\"142,-3179 142,-3200 261,-3200 261,-3179 142,-3179\"/>\n<text text-anchor=\"start\" x=\"150\" y=\"-3187\" font-family=\"Linux libertine\" font-size=\"10.00\">(1, 3, 224, 224) </text>\n<polygon fill=\"none\" stroke=\"black\" points=\"83,-3158 83,-3179 142,-3179 142,-3158 83,-3158\"/>\n<text text-anchor=\"start\" x=\"88\" y=\"-3166\" font-family=\"Linux libertine\" font-size=\"10.00\">output: </text>\n<polygon fill=\"none\" stroke=\"black\" points=\"142,-3158 142,-3179 261,-3179 261,-3158 142,-3158\"/>\n<text text-anchor=\"start\" x=\"147\" y=\"-3166\" font-family=\"Linux libertine\" font-size=\"10.00\">(1, 64, 112, 112) </text>\n</g>\n<!-- 0&#45;&gt;1 -->\n<g id=\"edge1\" class=\"edge\">\n<title>0&#45;&gt;1</title>\n<path fill=\"none\" stroke=\"black\" d=\"M145,-3236.73C145,-3229.08 145,-3219.52 145,-3210.45\"/>\n<polygon fill=\"black\" stroke=\"black\" points=\"148.5,-3210.17 145,-3200.17 141.5,-3210.17 148.5,-3210.17\"/>\n</g>\n<!-- 2 -->\n<g id=\"node3\" class=\"node\">\n<title>2</title>\n<polygon fill=\"#c1ffc1\" stroke=\"transparent\" points=\"272.5,-3122 17.5,-3122 17.5,-3080 272.5,-3080 272.5,-3122\"/>\n<polygon fill=\"none\" stroke=\"black\" points=\"18,-3080 18,-3122 95,-3122 95,-3080 18,-3080\"/>\n<text text-anchor=\"start\" x=\"23\" y=\"-3104\" font-family=\"Linux libertine\" font-size=\"10.00\">BatchNorm2d</text>\n<text text-anchor=\"start\" x=\"35\" y=\"-3093\" font-family=\"Linux libertine\" font-size=\"10.00\">depth:2</text>\n<polygon fill=\"none\" stroke=\"black\" points=\"95,-3101 95,-3122 154,-3122 154,-3101 95,-3101\"/>\n<text text-anchor=\"start\" x=\"106\" y=\"-3109\" font-family=\"Linux libertine\" font-size=\"10.00\">input:</text>\n<polygon fill=\"none\" stroke=\"black\" points=\"154,-3101 154,-3122 273,-3122 273,-3101 154,-3101\"/>\n<text text-anchor=\"start\" x=\"159\" y=\"-3109\" font-family=\"Linux libertine\" font-size=\"10.00\">(1, 64, 112, 112) </text>\n<polygon fill=\"none\" stroke=\"black\" points=\"95,-3080 95,-3101 154,-3101 154,-3080 95,-3080\"/>\n<text text-anchor=\"start\" x=\"100\" y=\"-3088\" font-family=\"Linux libertine\" font-size=\"10.00\">output: </text>\n<polygon fill=\"none\" stroke=\"black\" points=\"154,-3080 154,-3101 273,-3101 273,-3080 154,-3080\"/>\n<text text-anchor=\"start\" x=\"159\" y=\"-3088\" font-family=\"Linux libertine\" font-size=\"10.00\">(1, 64, 112, 112) </text>\n</g>\n<!-- 1&#45;&gt;2 -->\n<g id=\"edge2\" class=\"edge\">\n<title>1&#45;&gt;2</title>\n<path fill=\"none\" stroke=\"black\" d=\"M145,-3157.63C145,-3149.82 145,-3140.73 145,-3132.18\"/>\n<polygon fill=\"black\" stroke=\"black\" points=\"148.5,-3132.16 145,-3122.16 141.5,-3132.16 148.5,-3132.16\"/>\n</g>\n<!-- 3 -->\n<g id=\"node4\" class=\"node\">\n<title>3</title>\n<polygon fill=\"#c1ffc1\" stroke=\"transparent\" points=\"260.5,-3044 29.5,-3044 29.5,-3002 260.5,-3002 260.5,-3044\"/>\n<polygon fill=\"none\" stroke=\"black\" points=\"30,-3002 30,-3044 83,-3044 83,-3002 30,-3002\"/>\n<text text-anchor=\"start\" x=\"44\" y=\"-3026\" font-family=\"Linux libertine\" font-size=\"10.00\">ReLU</text>\n<text text-anchor=\"start\" x=\"35\" y=\"-3015\" font-family=\"Linux libertine\" font-size=\"10.00\">depth:2</text>\n<polygon fill=\"none\" stroke=\"black\" points=\"83,-3023 83,-3044 142,-3044 142,-3023 83,-3023\"/>\n<text text-anchor=\"start\" x=\"94\" y=\"-3031\" font-family=\"Linux libertine\" font-size=\"10.00\">input:</text>\n<polygon fill=\"none\" stroke=\"black\" points=\"142,-3023 142,-3044 261,-3044 261,-3023 142,-3023\"/>\n<text text-anchor=\"start\" x=\"147\" y=\"-3031\" font-family=\"Linux libertine\" font-size=\"10.00\">(1, 64, 112, 112) </text>\n<polygon fill=\"none\" stroke=\"black\" points=\"83,-3002 83,-3023 142,-3023 142,-3002 83,-3002\"/>\n<text text-anchor=\"start\" x=\"88\" y=\"-3010\" font-family=\"Linux libertine\" font-size=\"10.00\">output: </text>\n<polygon fill=\"none\" stroke=\"black\" points=\"142,-3002 142,-3023 261,-3023 261,-3002 142,-3002\"/>\n<text text-anchor=\"start\" x=\"147\" y=\"-3010\" font-family=\"Linux libertine\" font-size=\"10.00\">(1, 64, 112, 112) </text>\n</g>\n<!-- 2&#45;&gt;3 -->\n<g id=\"edge3\" class=\"edge\">\n<title>2&#45;&gt;3</title>\n<path fill=\"none\" stroke=\"black\" d=\"M145,-3079.63C145,-3071.82 145,-3062.73 145,-3054.18\"/>\n<polygon fill=\"black\" stroke=\"black\" points=\"148.5,-3054.16 145,-3044.16 141.5,-3054.16 148.5,-3054.16\"/>\n</g>\n<!-- 4 -->\n<g id=\"node5\" class=\"node\">\n<title>4</title>\n<polygon fill=\"#c1ffc1\" stroke=\"transparent\" points=\"266.5,-2966 23.5,-2966 23.5,-2924 266.5,-2924 266.5,-2966\"/>\n<polygon fill=\"none\" stroke=\"black\" points=\"24,-2924 24,-2966 89,-2966 89,-2924 24,-2924\"/>\n<text text-anchor=\"start\" x=\"29\" y=\"-2948\" font-family=\"Linux libertine\" font-size=\"10.00\">MaxPool2d</text>\n<text text-anchor=\"start\" x=\"35\" y=\"-2937\" font-family=\"Linux libertine\" font-size=\"10.00\">depth:1</text>\n<polygon fill=\"none\" stroke=\"black\" points=\"89,-2945 89,-2966 148,-2966 148,-2945 89,-2945\"/>\n<text text-anchor=\"start\" x=\"100\" y=\"-2953\" font-family=\"Linux libertine\" font-size=\"10.00\">input:</text>\n<polygon fill=\"none\" stroke=\"black\" points=\"148,-2945 148,-2966 267,-2966 267,-2945 148,-2945\"/>\n<text text-anchor=\"start\" x=\"153\" y=\"-2953\" font-family=\"Linux libertine\" font-size=\"10.00\">(1, 64, 112, 112) </text>\n<polygon fill=\"none\" stroke=\"black\" points=\"89,-2924 89,-2945 148,-2945 148,-2924 89,-2924\"/>\n<text text-anchor=\"start\" x=\"94\" y=\"-2932\" font-family=\"Linux libertine\" font-size=\"10.00\">output: </text>\n<polygon fill=\"none\" stroke=\"black\" points=\"148,-2924 148,-2945 267,-2945 267,-2924 148,-2924\"/>\n<text text-anchor=\"start\" x=\"159\" y=\"-2932\" font-family=\"Linux libertine\" font-size=\"10.00\">(1, 64, 56, 56) </text>\n</g>\n<!-- 3&#45;&gt;4 -->\n<g id=\"edge4\" class=\"edge\">\n<title>3&#45;&gt;4</title>\n<path fill=\"none\" stroke=\"black\" d=\"M145,-3001.63C145,-2993.82 145,-2984.73 145,-2976.18\"/>\n<polygon fill=\"black\" stroke=\"black\" points=\"148.5,-2976.16 145,-2966.16 141.5,-2976.16 148.5,-2976.16\"/>\n</g>\n<!-- 5 -->\n<g id=\"node6\" class=\"node\">\n<title>5</title>\n<polygon fill=\"#c1ffc1\" stroke=\"transparent\" points=\"263.5,-2858 26.5,-2858 26.5,-2816 263.5,-2816 263.5,-2858\"/>\n<polygon fill=\"none\" stroke=\"black\" points=\"27,-2816 27,-2858 98,-2858 98,-2816 27,-2816\"/>\n<text text-anchor=\"start\" x=\"32\" y=\"-2840\" font-family=\"Linux libertine\" font-size=\"10.00\">Sequential</text>\n<text text-anchor=\"start\" x=\"41\" y=\"-2829\" font-family=\"Linux libertine\" font-size=\"10.00\">depth:3</text>\n<polygon fill=\"none\" stroke=\"black\" points=\"98,-2837 98,-2858 157,-2858 157,-2837 98,-2837\"/>\n<text text-anchor=\"start\" x=\"109\" y=\"-2845\" font-family=\"Linux libertine\" font-size=\"10.00\">input:</text>\n<polygon fill=\"none\" stroke=\"black\" points=\"157,-2837 157,-2858 264,-2858 264,-2837 157,-2837\"/>\n<text text-anchor=\"start\" x=\"162\" y=\"-2845\" font-family=\"Linux libertine\" font-size=\"10.00\">(1, 64, 56, 56) </text>\n<polygon fill=\"none\" stroke=\"black\" points=\"98,-2816 98,-2837 157,-2837 157,-2816 98,-2816\"/>\n<text text-anchor=\"start\" x=\"103\" y=\"-2824\" font-family=\"Linux libertine\" font-size=\"10.00\">output: </text>\n<polygon fill=\"none\" stroke=\"black\" points=\"157,-2816 157,-2837 264,-2837 264,-2816 157,-2816\"/>\n<text text-anchor=\"start\" x=\"162\" y=\"-2824\" font-family=\"Linux libertine\" font-size=\"10.00\">(1, 64, 56, 56) </text>\n</g>\n<!-- 4&#45;&gt;5 -->\n<g id=\"edge5\" class=\"edge\">\n<title>4&#45;&gt;5</title>\n<path fill=\"none\" stroke=\"black\" d=\"M145,-2923.56C145,-2907.92 145,-2886.1 145,-2868.4\"/>\n<polygon fill=\"black\" stroke=\"black\" points=\"148.5,-2868.02 145,-2858.02 141.5,-2868.02 148.5,-2868.02\"/>\n</g>\n<!-- 7 -->\n<g id=\"node8\" class=\"node\">\n<title>7</title>\n<polygon fill=\"aliceblue\" stroke=\"transparent\" points=\"268.5,-2702 25.5,-2702 25.5,-2660 268.5,-2660 268.5,-2702\"/>\n<polygon fill=\"none\" stroke=\"black\" points=\"26,-2660 26,-2702 79,-2702 79,-2660 26,-2660\"/>\n<text text-anchor=\"start\" x=\"40\" y=\"-2684\" font-family=\"Linux libertine\" font-size=\"10.00\">add_</text>\n<text text-anchor=\"start\" x=\"31\" y=\"-2673\" font-family=\"Linux libertine\" font-size=\"10.00\">depth:3</text>\n<polygon fill=\"none\" stroke=\"black\" points=\"79,-2681 79,-2702 138,-2702 138,-2681 79,-2681\"/>\n<text text-anchor=\"start\" x=\"90\" y=\"-2689\" font-family=\"Linux libertine\" font-size=\"10.00\">input:</text>\n<polygon fill=\"none\" stroke=\"black\" points=\"138,-2681 138,-2702 269,-2702 269,-2681 138,-2681\"/>\n<text text-anchor=\"start\" x=\"143\" y=\"-2689\" font-family=\"Linux libertine\" font-size=\"10.00\">2 x (1, 64, 56, 56) </text>\n<polygon fill=\"none\" stroke=\"black\" points=\"79,-2660 79,-2681 138,-2681 138,-2660 79,-2660\"/>\n<text text-anchor=\"start\" x=\"84\" y=\"-2668\" font-family=\"Linux libertine\" font-size=\"10.00\">output: </text>\n<polygon fill=\"none\" stroke=\"black\" points=\"138,-2660 138,-2681 269,-2681 269,-2660 138,-2660\"/>\n<text text-anchor=\"start\" x=\"155\" y=\"-2668\" font-family=\"Linux libertine\" font-size=\"10.00\">(1, 64, 56, 56) </text>\n</g>\n<!-- 4&#45;&gt;7 -->\n<g id=\"edge6\" class=\"edge\">\n<title>4&#45;&gt;7</title>\n<path fill=\"none\" stroke=\"black\" d=\"M260.9,-2923.89C265.82,-2921.52 269.67,-2918.9 272,-2916 321.55,-2854.33 315.01,-2804.4 272,-2738 263.41,-2724.74 250.86,-2714.59 236.98,-2706.83\"/>\n<polygon fill=\"black\" stroke=\"black\" points=\"238.19,-2703.52 227.7,-2702.07 235,-2709.74 238.19,-2703.52\"/>\n</g>\n<!-- 6 -->\n<g id=\"node7\" class=\"node\">\n<title>6</title>\n<polygon fill=\"#c1ffc1\" stroke=\"transparent\" points=\"263.5,-2780 26.5,-2780 26.5,-2738 263.5,-2738 263.5,-2780\"/>\n<polygon fill=\"none\" stroke=\"black\" points=\"27,-2738 27,-2780 98,-2780 98,-2738 27,-2738\"/>\n<text text-anchor=\"start\" x=\"32\" y=\"-2762\" font-family=\"Linux libertine\" font-size=\"10.00\">Sequential</text>\n<text text-anchor=\"start\" x=\"41\" y=\"-2751\" font-family=\"Linux libertine\" font-size=\"10.00\">depth:3</text>\n<polygon fill=\"none\" stroke=\"black\" points=\"98,-2759 98,-2780 157,-2780 157,-2759 98,-2759\"/>\n<text text-anchor=\"start\" x=\"109\" y=\"-2767\" font-family=\"Linux libertine\" font-size=\"10.00\">input:</text>\n<polygon fill=\"none\" stroke=\"black\" points=\"157,-2759 157,-2780 264,-2780 264,-2759 157,-2759\"/>\n<text text-anchor=\"start\" x=\"162\" y=\"-2767\" font-family=\"Linux libertine\" font-size=\"10.00\">(1, 64, 56, 56) </text>\n<polygon fill=\"none\" stroke=\"black\" points=\"98,-2738 98,-2759 157,-2759 157,-2738 98,-2738\"/>\n<text text-anchor=\"start\" x=\"103\" y=\"-2746\" font-family=\"Linux libertine\" font-size=\"10.00\">output: </text>\n<polygon fill=\"none\" stroke=\"black\" points=\"157,-2738 157,-2759 264,-2759 264,-2738 157,-2738\"/>\n<text text-anchor=\"start\" x=\"162\" y=\"-2746\" font-family=\"Linux libertine\" font-size=\"10.00\">(1, 64, 56, 56) </text>\n</g>\n<!-- 5&#45;&gt;6 -->\n<g id=\"edge7\" class=\"edge\">\n<title>5&#45;&gt;6</title>\n<path fill=\"none\" stroke=\"black\" d=\"M145,-2815.63C145,-2807.82 145,-2798.73 145,-2790.18\"/>\n<polygon fill=\"black\" stroke=\"black\" points=\"148.5,-2790.16 145,-2780.16 141.5,-2790.16 148.5,-2790.16\"/>\n</g>\n<!-- 6&#45;&gt;7 -->\n<g id=\"edge8\" class=\"edge\">\n<title>6&#45;&gt;7</title>\n<path fill=\"none\" stroke=\"black\" d=\"M145.54,-2737.63C145.74,-2729.82 145.98,-2720.73 146.21,-2712.18\"/>\n<polygon fill=\"black\" stroke=\"black\" points=\"149.71,-2712.25 146.47,-2702.16 142.71,-2712.06 149.71,-2712.25\"/>\n</g>\n<!-- 8 -->\n<g id=\"node9\" class=\"node\">\n<title>8</title>\n<polygon fill=\"#c1ffc1\" stroke=\"transparent\" points=\"256.5,-2624 37.5,-2624 37.5,-2582 256.5,-2582 256.5,-2624\"/>\n<polygon fill=\"none\" stroke=\"black\" points=\"38,-2582 38,-2624 91,-2624 91,-2582 38,-2582\"/>\n<text text-anchor=\"start\" x=\"52\" y=\"-2606\" font-family=\"Linux libertine\" font-size=\"10.00\">ReLU</text>\n<text text-anchor=\"start\" x=\"43\" y=\"-2595\" font-family=\"Linux libertine\" font-size=\"10.00\">depth:3</text>\n<polygon fill=\"none\" stroke=\"black\" points=\"91,-2603 91,-2624 150,-2624 150,-2603 91,-2603\"/>\n<text text-anchor=\"start\" x=\"102\" y=\"-2611\" font-family=\"Linux libertine\" font-size=\"10.00\">input:</text>\n<polygon fill=\"none\" stroke=\"black\" points=\"150,-2603 150,-2624 257,-2624 257,-2603 150,-2603\"/>\n<text text-anchor=\"start\" x=\"155\" y=\"-2611\" font-family=\"Linux libertine\" font-size=\"10.00\">(1, 64, 56, 56) </text>\n<polygon fill=\"none\" stroke=\"black\" points=\"91,-2582 91,-2603 150,-2603 150,-2582 91,-2582\"/>\n<text text-anchor=\"start\" x=\"96\" y=\"-2590\" font-family=\"Linux libertine\" font-size=\"10.00\">output: </text>\n<polygon fill=\"none\" stroke=\"black\" points=\"150,-2582 150,-2603 257,-2603 257,-2582 150,-2582\"/>\n<text text-anchor=\"start\" x=\"155\" y=\"-2590\" font-family=\"Linux libertine\" font-size=\"10.00\">(1, 64, 56, 56) </text>\n</g>\n<!-- 7&#45;&gt;8 -->\n<g id=\"edge9\" class=\"edge\">\n<title>7&#45;&gt;8</title>\n<path fill=\"none\" stroke=\"black\" d=\"M147,-2659.63C147,-2651.82 147,-2642.73 147,-2634.18\"/>\n<polygon fill=\"black\" stroke=\"black\" points=\"150.5,-2634.16 147,-2624.16 143.5,-2634.16 150.5,-2634.16\"/>\n</g>\n<!-- 9 -->\n<g id=\"node10\" class=\"node\">\n<title>9</title>\n<polygon fill=\"#c1ffc1\" stroke=\"transparent\" points=\"261.5,-2537 24.5,-2537 24.5,-2495 261.5,-2495 261.5,-2537\"/>\n<polygon fill=\"none\" stroke=\"black\" points=\"25,-2495 25,-2537 96,-2537 96,-2495 25,-2495\"/>\n<text text-anchor=\"start\" x=\"30\" y=\"-2519\" font-family=\"Linux libertine\" font-size=\"10.00\">Sequential</text>\n<text text-anchor=\"start\" x=\"39\" y=\"-2508\" font-family=\"Linux libertine\" font-size=\"10.00\">depth:3</text>\n<polygon fill=\"none\" stroke=\"black\" points=\"96,-2516 96,-2537 155,-2537 155,-2516 96,-2516\"/>\n<text text-anchor=\"start\" x=\"107\" y=\"-2524\" font-family=\"Linux libertine\" font-size=\"10.00\">input:</text>\n<polygon fill=\"none\" stroke=\"black\" points=\"155,-2516 155,-2537 262,-2537 262,-2516 155,-2516\"/>\n<text text-anchor=\"start\" x=\"160\" y=\"-2524\" font-family=\"Linux libertine\" font-size=\"10.00\">(1, 64, 56, 56) </text>\n<polygon fill=\"none\" stroke=\"black\" points=\"96,-2495 96,-2516 155,-2516 155,-2495 96,-2495\"/>\n<text text-anchor=\"start\" x=\"101\" y=\"-2503\" font-family=\"Linux libertine\" font-size=\"10.00\">output: </text>\n<polygon fill=\"none\" stroke=\"black\" points=\"155,-2495 155,-2516 262,-2516 262,-2495 155,-2495\"/>\n<text text-anchor=\"start\" x=\"160\" y=\"-2503\" font-family=\"Linux libertine\" font-size=\"10.00\">(1, 64, 56, 56) </text>\n</g>\n<!-- 8&#45;&gt;9 -->\n<g id=\"edge10\" class=\"edge\">\n<title>8&#45;&gt;9</title>\n<path fill=\"none\" stroke=\"black\" d=\"M146.05,-2581.86C145.57,-2571.56 144.97,-2558.81 144.43,-2547.35\"/>\n<polygon fill=\"black\" stroke=\"black\" points=\"147.92,-2547.12 143.96,-2537.29 140.93,-2547.45 147.92,-2547.12\"/>\n</g>\n<!-- 11 -->\n<g id=\"node12\" class=\"node\">\n<title>11</title>\n<polygon fill=\"aliceblue\" stroke=\"transparent\" points=\"267.5,-2381 24.5,-2381 24.5,-2339 267.5,-2339 267.5,-2381\"/>\n<polygon fill=\"none\" stroke=\"black\" points=\"25,-2339 25,-2381 78,-2381 78,-2339 25,-2339\"/>\n<text text-anchor=\"start\" x=\"39\" y=\"-2363\" font-family=\"Linux libertine\" font-size=\"10.00\">add_</text>\n<text text-anchor=\"start\" x=\"30\" y=\"-2352\" font-family=\"Linux libertine\" font-size=\"10.00\">depth:3</text>\n<polygon fill=\"none\" stroke=\"black\" points=\"78,-2360 78,-2381 137,-2381 137,-2360 78,-2360\"/>\n<text text-anchor=\"start\" x=\"89\" y=\"-2368\" font-family=\"Linux libertine\" font-size=\"10.00\">input:</text>\n<polygon fill=\"none\" stroke=\"black\" points=\"137,-2360 137,-2381 268,-2381 268,-2360 137,-2360\"/>\n<text text-anchor=\"start\" x=\"142\" y=\"-2368\" font-family=\"Linux libertine\" font-size=\"10.00\">2 x (1, 64, 56, 56) </text>\n<polygon fill=\"none\" stroke=\"black\" points=\"78,-2339 78,-2360 137,-2360 137,-2339 78,-2339\"/>\n<text text-anchor=\"start\" x=\"83\" y=\"-2347\" font-family=\"Linux libertine\" font-size=\"10.00\">output: </text>\n<polygon fill=\"none\" stroke=\"black\" points=\"137,-2339 137,-2360 268,-2360 268,-2339 137,-2339\"/>\n<text text-anchor=\"start\" x=\"154\" y=\"-2347\" font-family=\"Linux libertine\" font-size=\"10.00\">(1, 64, 56, 56) </text>\n</g>\n<!-- 8&#45;&gt;11 -->\n<g id=\"edge11\" class=\"edge\">\n<title>8&#45;&gt;11</title>\n<path fill=\"none\" stroke=\"black\" d=\"M253.02,-2581.95C259.48,-2577.58 265.26,-2572.32 270,-2566 309.71,-2513 305.92,-2472.63 270,-2417 261.43,-2403.73 248.89,-2393.58 235.02,-2385.81\"/>\n<polygon fill=\"black\" stroke=\"black\" points=\"236.24,-2382.5 225.74,-2381.04 233.04,-2388.73 236.24,-2382.5\"/>\n</g>\n<!-- 10 -->\n<g id=\"node11\" class=\"node\">\n<title>10</title>\n<polygon fill=\"#c1ffc1\" stroke=\"transparent\" points=\"261.5,-2459 24.5,-2459 24.5,-2417 261.5,-2417 261.5,-2459\"/>\n<polygon fill=\"none\" stroke=\"black\" points=\"25,-2417 25,-2459 96,-2459 96,-2417 25,-2417\"/>\n<text text-anchor=\"start\" x=\"30\" y=\"-2441\" font-family=\"Linux libertine\" font-size=\"10.00\">Sequential</text>\n<text text-anchor=\"start\" x=\"39\" y=\"-2430\" font-family=\"Linux libertine\" font-size=\"10.00\">depth:3</text>\n<polygon fill=\"none\" stroke=\"black\" points=\"96,-2438 96,-2459 155,-2459 155,-2438 96,-2438\"/>\n<text text-anchor=\"start\" x=\"107\" y=\"-2446\" font-family=\"Linux libertine\" font-size=\"10.00\">input:</text>\n<polygon fill=\"none\" stroke=\"black\" points=\"155,-2438 155,-2459 262,-2459 262,-2438 155,-2438\"/>\n<text text-anchor=\"start\" x=\"160\" y=\"-2446\" font-family=\"Linux libertine\" font-size=\"10.00\">(1, 64, 56, 56) </text>\n<polygon fill=\"none\" stroke=\"black\" points=\"96,-2417 96,-2438 155,-2438 155,-2417 96,-2417\"/>\n<text text-anchor=\"start\" x=\"101\" y=\"-2425\" font-family=\"Linux libertine\" font-size=\"10.00\">output: </text>\n<polygon fill=\"none\" stroke=\"black\" points=\"155,-2417 155,-2438 262,-2438 262,-2417 155,-2417\"/>\n<text text-anchor=\"start\" x=\"160\" y=\"-2425\" font-family=\"Linux libertine\" font-size=\"10.00\">(1, 64, 56, 56) </text>\n</g>\n<!-- 9&#45;&gt;10 -->\n<g id=\"edge12\" class=\"edge\">\n<title>9&#45;&gt;10</title>\n<path fill=\"none\" stroke=\"black\" d=\"M143,-2494.63C143,-2486.82 143,-2477.73 143,-2469.18\"/>\n<polygon fill=\"black\" stroke=\"black\" points=\"146.5,-2469.16 143,-2459.16 139.5,-2469.16 146.5,-2469.16\"/>\n</g>\n<!-- 10&#45;&gt;11 -->\n<g id=\"edge13\" class=\"edge\">\n<title>10&#45;&gt;11</title>\n<path fill=\"none\" stroke=\"black\" d=\"M143.8,-2416.63C144.11,-2408.82 144.47,-2399.73 144.81,-2391.18\"/>\n<polygon fill=\"black\" stroke=\"black\" points=\"148.31,-2391.29 145.2,-2381.16 141.31,-2391.01 148.31,-2391.29\"/>\n</g>\n<!-- 12 -->\n<g id=\"node13\" class=\"node\">\n<title>12</title>\n<polygon fill=\"#c1ffc1\" stroke=\"transparent\" points=\"255.5,-2303 36.5,-2303 36.5,-2261 255.5,-2261 255.5,-2303\"/>\n<polygon fill=\"none\" stroke=\"black\" points=\"37,-2261 37,-2303 90,-2303 90,-2261 37,-2261\"/>\n<text text-anchor=\"start\" x=\"51\" y=\"-2285\" font-family=\"Linux libertine\" font-size=\"10.00\">ReLU</text>\n<text text-anchor=\"start\" x=\"42\" y=\"-2274\" font-family=\"Linux libertine\" font-size=\"10.00\">depth:3</text>\n<polygon fill=\"none\" stroke=\"black\" points=\"90,-2282 90,-2303 149,-2303 149,-2282 90,-2282\"/>\n<text text-anchor=\"start\" x=\"101\" y=\"-2290\" font-family=\"Linux libertine\" font-size=\"10.00\">input:</text>\n<polygon fill=\"none\" stroke=\"black\" points=\"149,-2282 149,-2303 256,-2303 256,-2282 149,-2282\"/>\n<text text-anchor=\"start\" x=\"154\" y=\"-2290\" font-family=\"Linux libertine\" font-size=\"10.00\">(1, 64, 56, 56) </text>\n<polygon fill=\"none\" stroke=\"black\" points=\"90,-2261 90,-2282 149,-2282 149,-2261 90,-2261\"/>\n<text text-anchor=\"start\" x=\"95\" y=\"-2269\" font-family=\"Linux libertine\" font-size=\"10.00\">output: </text>\n<polygon fill=\"none\" stroke=\"black\" points=\"149,-2261 149,-2282 256,-2282 256,-2261 149,-2261\"/>\n<text text-anchor=\"start\" x=\"154\" y=\"-2269\" font-family=\"Linux libertine\" font-size=\"10.00\">(1, 64, 56, 56) </text>\n</g>\n<!-- 11&#45;&gt;12 -->\n<g id=\"edge14\" class=\"edge\">\n<title>11&#45;&gt;12</title>\n<path fill=\"none\" stroke=\"black\" d=\"M146,-2338.63C146,-2330.82 146,-2321.73 146,-2313.18\"/>\n<polygon fill=\"black\" stroke=\"black\" points=\"149.5,-2313.16 146,-2303.16 142.5,-2313.16 149.5,-2313.16\"/>\n</g>\n<!-- 13 -->\n<g id=\"node14\" class=\"node\">\n<title>13</title>\n<polygon fill=\"#c1ffc1\" stroke=\"transparent\" points=\"267.5,-2179 24.5,-2179 24.5,-2137 267.5,-2137 267.5,-2179\"/>\n<polygon fill=\"none\" stroke=\"black\" points=\"25,-2137 25,-2179 96,-2179 96,-2137 25,-2137\"/>\n<text text-anchor=\"start\" x=\"30\" y=\"-2161\" font-family=\"Linux libertine\" font-size=\"10.00\">Sequential</text>\n<text text-anchor=\"start\" x=\"39\" y=\"-2150\" font-family=\"Linux libertine\" font-size=\"10.00\">depth:3</text>\n<polygon fill=\"none\" stroke=\"black\" points=\"96,-2158 96,-2179 155,-2179 155,-2158 96,-2158\"/>\n<text text-anchor=\"start\" x=\"107\" y=\"-2166\" font-family=\"Linux libertine\" font-size=\"10.00\">input:</text>\n<polygon fill=\"none\" stroke=\"black\" points=\"155,-2158 155,-2179 268,-2179 268,-2158 155,-2158\"/>\n<text text-anchor=\"start\" x=\"163\" y=\"-2166\" font-family=\"Linux libertine\" font-size=\"10.00\">(1, 64, 56, 56) </text>\n<polygon fill=\"none\" stroke=\"black\" points=\"96,-2137 96,-2158 155,-2158 155,-2137 96,-2137\"/>\n<text text-anchor=\"start\" x=\"101\" y=\"-2145\" font-family=\"Linux libertine\" font-size=\"10.00\">output: </text>\n<polygon fill=\"none\" stroke=\"black\" points=\"155,-2137 155,-2158 268,-2158 268,-2137 155,-2137\"/>\n<text text-anchor=\"start\" x=\"160\" y=\"-2145\" font-family=\"Linux libertine\" font-size=\"10.00\">(1, 128, 28, 28) </text>\n</g>\n<!-- 12&#45;&gt;13 -->\n<g id=\"edge15\" class=\"edge\">\n<title>12&#45;&gt;13</title>\n<path fill=\"none\" stroke=\"black\" d=\"M146,-2260.85C146,-2241.43 146,-2211.77 146,-2189.46\"/>\n<polygon fill=\"black\" stroke=\"black\" points=\"149.5,-2189.18 146,-2179.18 142.5,-2189.18 149.5,-2189.18\"/>\n</g>\n<!-- 15 -->\n<g id=\"node16\" class=\"node\">\n<title>15</title>\n<polygon fill=\"#c1ffc1\" stroke=\"transparent\" points=\"528.5,-2101 285.5,-2101 285.5,-2059 528.5,-2059 528.5,-2101\"/>\n<polygon fill=\"none\" stroke=\"black\" points=\"286,-2059 286,-2101 357,-2101 357,-2059 286,-2059\"/>\n<text text-anchor=\"start\" x=\"291\" y=\"-2083\" font-family=\"Linux libertine\" font-size=\"10.00\">Sequential</text>\n<text text-anchor=\"start\" x=\"300\" y=\"-2072\" font-family=\"Linux libertine\" font-size=\"10.00\">depth:3</text>\n<polygon fill=\"none\" stroke=\"black\" points=\"357,-2080 357,-2101 416,-2101 416,-2080 357,-2080\"/>\n<text text-anchor=\"start\" x=\"368\" y=\"-2088\" font-family=\"Linux libertine\" font-size=\"10.00\">input:</text>\n<polygon fill=\"none\" stroke=\"black\" points=\"416,-2080 416,-2101 529,-2101 529,-2080 416,-2080\"/>\n<text text-anchor=\"start\" x=\"424\" y=\"-2088\" font-family=\"Linux libertine\" font-size=\"10.00\">(1, 64, 56, 56) </text>\n<polygon fill=\"none\" stroke=\"black\" points=\"357,-2059 357,-2080 416,-2080 416,-2059 357,-2059\"/>\n<text text-anchor=\"start\" x=\"362\" y=\"-2067\" font-family=\"Linux libertine\" font-size=\"10.00\">output: </text>\n<polygon fill=\"none\" stroke=\"black\" points=\"416,-2059 416,-2080 529,-2080 529,-2059 416,-2059\"/>\n<text text-anchor=\"start\" x=\"421\" y=\"-2067\" font-family=\"Linux libertine\" font-size=\"10.00\">(1, 128, 28, 28) </text>\n</g>\n<!-- 12&#45;&gt;15 -->\n<g id=\"edge16\" class=\"edge\">\n<title>12&#45;&gt;15</title>\n<path fill=\"none\" stroke=\"black\" d=\"M227.62,-2260.99C244.44,-2254.82 261.44,-2246.95 276,-2237 325.99,-2202.85 367.71,-2144.61 389.86,-2109.77\"/>\n<polygon fill=\"black\" stroke=\"black\" points=\"392.99,-2111.36 395.32,-2101.02 387.05,-2107.65 392.99,-2111.36\"/>\n</g>\n<!-- 14 -->\n<g id=\"node15\" class=\"node\">\n<title>14</title>\n<polygon fill=\"#c1ffc1\" stroke=\"transparent\" points=\"267.5,-2101 24.5,-2101 24.5,-2059 267.5,-2059 267.5,-2101\"/>\n<polygon fill=\"none\" stroke=\"black\" points=\"25,-2059 25,-2101 96,-2101 96,-2059 25,-2059\"/>\n<text text-anchor=\"start\" x=\"30\" y=\"-2083\" font-family=\"Linux libertine\" font-size=\"10.00\">Sequential</text>\n<text text-anchor=\"start\" x=\"39\" y=\"-2072\" font-family=\"Linux libertine\" font-size=\"10.00\">depth:3</text>\n<polygon fill=\"none\" stroke=\"black\" points=\"96,-2080 96,-2101 155,-2101 155,-2080 96,-2080\"/>\n<text text-anchor=\"start\" x=\"107\" y=\"-2088\" font-family=\"Linux libertine\" font-size=\"10.00\">input:</text>\n<polygon fill=\"none\" stroke=\"black\" points=\"155,-2080 155,-2101 268,-2101 268,-2080 155,-2080\"/>\n<text text-anchor=\"start\" x=\"160\" y=\"-2088\" font-family=\"Linux libertine\" font-size=\"10.00\">(1, 128, 28, 28) </text>\n<polygon fill=\"none\" stroke=\"black\" points=\"96,-2059 96,-2080 155,-2080 155,-2059 96,-2059\"/>\n<text text-anchor=\"start\" x=\"101\" y=\"-2067\" font-family=\"Linux libertine\" font-size=\"10.00\">output: </text>\n<polygon fill=\"none\" stroke=\"black\" points=\"155,-2059 155,-2080 268,-2080 268,-2059 155,-2059\"/>\n<text text-anchor=\"start\" x=\"160\" y=\"-2067\" font-family=\"Linux libertine\" font-size=\"10.00\">(1, 128, 28, 28) </text>\n</g>\n<!-- 13&#45;&gt;14 -->\n<g id=\"edge17\" class=\"edge\">\n<title>13&#45;&gt;14</title>\n<path fill=\"none\" stroke=\"black\" d=\"M146,-2136.63C146,-2128.82 146,-2119.73 146,-2111.18\"/>\n<polygon fill=\"black\" stroke=\"black\" points=\"149.5,-2111.16 146,-2101.16 142.5,-2111.16 149.5,-2111.16\"/>\n</g>\n<!-- 16 -->\n<g id=\"node17\" class=\"node\">\n<title>16</title>\n<polygon fill=\"aliceblue\" stroke=\"transparent\" points=\"396.5,-2023 147.5,-2023 147.5,-1981 396.5,-1981 396.5,-2023\"/>\n<polygon fill=\"none\" stroke=\"black\" points=\"148,-1981 148,-2023 201,-2023 201,-1981 148,-1981\"/>\n<text text-anchor=\"start\" x=\"162\" y=\"-2005\" font-family=\"Linux libertine\" font-size=\"10.00\">add_</text>\n<text text-anchor=\"start\" x=\"153\" y=\"-1994\" font-family=\"Linux libertine\" font-size=\"10.00\">depth:3</text>\n<polygon fill=\"none\" stroke=\"black\" points=\"201,-2002 201,-2023 260,-2023 260,-2002 201,-2002\"/>\n<text text-anchor=\"start\" x=\"212\" y=\"-2010\" font-family=\"Linux libertine\" font-size=\"10.00\">input:</text>\n<polygon fill=\"none\" stroke=\"black\" points=\"260,-2002 260,-2023 397,-2023 397,-2002 260,-2002\"/>\n<text text-anchor=\"start\" x=\"265\" y=\"-2010\" font-family=\"Linux libertine\" font-size=\"10.00\">2 x (1, 128, 28, 28) </text>\n<polygon fill=\"none\" stroke=\"black\" points=\"201,-1981 201,-2002 260,-2002 260,-1981 201,-1981\"/>\n<text text-anchor=\"start\" x=\"206\" y=\"-1989\" font-family=\"Linux libertine\" font-size=\"10.00\">output: </text>\n<polygon fill=\"none\" stroke=\"black\" points=\"260,-1981 260,-2002 397,-2002 397,-1981 260,-1981\"/>\n<text text-anchor=\"start\" x=\"277\" y=\"-1989\" font-family=\"Linux libertine\" font-size=\"10.00\">(1, 128, 28, 28) </text>\n</g>\n<!-- 14&#45;&gt;16 -->\n<g id=\"edge18\" class=\"edge\">\n<title>14&#45;&gt;16</title>\n<path fill=\"none\" stroke=\"black\" d=\"M179.43,-2058.83C194.81,-2049.56 213.23,-2038.45 229.58,-2028.59\"/>\n<polygon fill=\"black\" stroke=\"black\" points=\"231.65,-2031.42 238.41,-2023.26 228.04,-2025.43 231.65,-2031.42\"/>\n</g>\n<!-- 15&#45;&gt;16 -->\n<g id=\"edge19\" class=\"edge\">\n<title>15&#45;&gt;16</title>\n<path fill=\"none\" stroke=\"black\" d=\"M371.18,-2058.83C354.55,-2049.47 334.6,-2038.24 316.97,-2028.32\"/>\n<polygon fill=\"black\" stroke=\"black\" points=\"318.42,-2025.12 307.99,-2023.26 314.99,-2031.22 318.42,-2025.12\"/>\n</g>\n<!-- 17 -->\n<g id=\"node18\" class=\"node\">\n<title>17</title>\n<polygon fill=\"#c1ffc1\" stroke=\"transparent\" points=\"384.5,-1945 159.5,-1945 159.5,-1903 384.5,-1903 384.5,-1945\"/>\n<polygon fill=\"none\" stroke=\"black\" points=\"160,-1903 160,-1945 213,-1945 213,-1903 160,-1903\"/>\n<text text-anchor=\"start\" x=\"174\" y=\"-1927\" font-family=\"Linux libertine\" font-size=\"10.00\">ReLU</text>\n<text text-anchor=\"start\" x=\"165\" y=\"-1916\" font-family=\"Linux libertine\" font-size=\"10.00\">depth:3</text>\n<polygon fill=\"none\" stroke=\"black\" points=\"213,-1924 213,-1945 272,-1945 272,-1924 213,-1924\"/>\n<text text-anchor=\"start\" x=\"224\" y=\"-1932\" font-family=\"Linux libertine\" font-size=\"10.00\">input:</text>\n<polygon fill=\"none\" stroke=\"black\" points=\"272,-1924 272,-1945 385,-1945 385,-1924 272,-1924\"/>\n<text text-anchor=\"start\" x=\"277\" y=\"-1932\" font-family=\"Linux libertine\" font-size=\"10.00\">(1, 128, 28, 28) </text>\n<polygon fill=\"none\" stroke=\"black\" points=\"213,-1903 213,-1924 272,-1924 272,-1903 213,-1903\"/>\n<text text-anchor=\"start\" x=\"218\" y=\"-1911\" font-family=\"Linux libertine\" font-size=\"10.00\">output: </text>\n<polygon fill=\"none\" stroke=\"black\" points=\"272,-1903 272,-1924 385,-1924 385,-1903 272,-1903\"/>\n<text text-anchor=\"start\" x=\"277\" y=\"-1911\" font-family=\"Linux libertine\" font-size=\"10.00\">(1, 128, 28, 28) </text>\n</g>\n<!-- 16&#45;&gt;17 -->\n<g id=\"edge20\" class=\"edge\">\n<title>16&#45;&gt;17</title>\n<path fill=\"none\" stroke=\"black\" d=\"M272,-1980.63C272,-1972.82 272,-1963.73 272,-1955.18\"/>\n<polygon fill=\"black\" stroke=\"black\" points=\"275.5,-1955.16 272,-1945.16 268.5,-1955.16 275.5,-1955.16\"/>\n</g>\n<!-- 18 -->\n<g id=\"node19\" class=\"node\">\n<title>18</title>\n<polygon fill=\"#c1ffc1\" stroke=\"transparent\" points=\"384.5,-1858 141.5,-1858 141.5,-1816 384.5,-1816 384.5,-1858\"/>\n<polygon fill=\"none\" stroke=\"black\" points=\"142,-1816 142,-1858 213,-1858 213,-1816 142,-1816\"/>\n<text text-anchor=\"start\" x=\"147\" y=\"-1840\" font-family=\"Linux libertine\" font-size=\"10.00\">Sequential</text>\n<text text-anchor=\"start\" x=\"156\" y=\"-1829\" font-family=\"Linux libertine\" font-size=\"10.00\">depth:3</text>\n<polygon fill=\"none\" stroke=\"black\" points=\"213,-1837 213,-1858 272,-1858 272,-1837 213,-1837\"/>\n<text text-anchor=\"start\" x=\"224\" y=\"-1845\" font-family=\"Linux libertine\" font-size=\"10.00\">input:</text>\n<polygon fill=\"none\" stroke=\"black\" points=\"272,-1837 272,-1858 385,-1858 385,-1837 272,-1837\"/>\n<text text-anchor=\"start\" x=\"277\" y=\"-1845\" font-family=\"Linux libertine\" font-size=\"10.00\">(1, 128, 28, 28) </text>\n<polygon fill=\"none\" stroke=\"black\" points=\"213,-1816 213,-1837 272,-1837 272,-1816 213,-1816\"/>\n<text text-anchor=\"start\" x=\"218\" y=\"-1824\" font-family=\"Linux libertine\" font-size=\"10.00\">output: </text>\n<polygon fill=\"none\" stroke=\"black\" points=\"272,-1816 272,-1837 385,-1837 385,-1816 272,-1816\"/>\n<text text-anchor=\"start\" x=\"277\" y=\"-1824\" font-family=\"Linux libertine\" font-size=\"10.00\">(1, 128, 28, 28) </text>\n</g>\n<!-- 17&#45;&gt;18 -->\n<g id=\"edge21\" class=\"edge\">\n<title>17&#45;&gt;18</title>\n<path fill=\"none\" stroke=\"black\" d=\"M269.87,-1902.86C268.78,-1892.56 267.43,-1879.81 266.21,-1868.35\"/>\n<polygon fill=\"black\" stroke=\"black\" points=\"269.68,-1867.87 265.15,-1858.29 262.72,-1868.61 269.68,-1867.87\"/>\n</g>\n<!-- 20 -->\n<g id=\"node21\" class=\"node\">\n<title>20</title>\n<polygon fill=\"aliceblue\" stroke=\"transparent\" points=\"389.5,-1702 140.5,-1702 140.5,-1660 389.5,-1660 389.5,-1702\"/>\n<polygon fill=\"none\" stroke=\"black\" points=\"141,-1660 141,-1702 194,-1702 194,-1660 141,-1660\"/>\n<text text-anchor=\"start\" x=\"155\" y=\"-1684\" font-family=\"Linux libertine\" font-size=\"10.00\">add_</text>\n<text text-anchor=\"start\" x=\"146\" y=\"-1673\" font-family=\"Linux libertine\" font-size=\"10.00\">depth:3</text>\n<polygon fill=\"none\" stroke=\"black\" points=\"194,-1681 194,-1702 253,-1702 253,-1681 194,-1681\"/>\n<text text-anchor=\"start\" x=\"205\" y=\"-1689\" font-family=\"Linux libertine\" font-size=\"10.00\">input:</text>\n<polygon fill=\"none\" stroke=\"black\" points=\"253,-1681 253,-1702 390,-1702 390,-1681 253,-1681\"/>\n<text text-anchor=\"start\" x=\"258\" y=\"-1689\" font-family=\"Linux libertine\" font-size=\"10.00\">2 x (1, 128, 28, 28) </text>\n<polygon fill=\"none\" stroke=\"black\" points=\"194,-1660 194,-1681 253,-1681 253,-1660 194,-1660\"/>\n<text text-anchor=\"start\" x=\"199\" y=\"-1668\" font-family=\"Linux libertine\" font-size=\"10.00\">output: </text>\n<polygon fill=\"none\" stroke=\"black\" points=\"253,-1660 253,-1681 390,-1681 390,-1660 253,-1660\"/>\n<text text-anchor=\"start\" x=\"270\" y=\"-1668\" font-family=\"Linux libertine\" font-size=\"10.00\">(1, 128, 28, 28) </text>\n</g>\n<!-- 17&#45;&gt;20 -->\n<g id=\"edge22\" class=\"edge\">\n<title>17&#45;&gt;20</title>\n<path fill=\"none\" stroke=\"black\" d=\"M377.17,-1902.86C383.57,-1898.51 389.31,-1893.28 394,-1887 433.65,-1833.96 430.33,-1793.37 394,-1738 385.18,-1724.56 372.37,-1714.33 358.2,-1706.55\"/>\n<polygon fill=\"black\" stroke=\"black\" points=\"359.73,-1703.4 349.22,-1702.01 356.57,-1709.64 359.73,-1703.4\"/>\n</g>\n<!-- 19 -->\n<g id=\"node20\" class=\"node\">\n<title>19</title>\n<polygon fill=\"#c1ffc1\" stroke=\"transparent\" points=\"384.5,-1780 141.5,-1780 141.5,-1738 384.5,-1738 384.5,-1780\"/>\n<polygon fill=\"none\" stroke=\"black\" points=\"142,-1738 142,-1780 213,-1780 213,-1738 142,-1738\"/>\n<text text-anchor=\"start\" x=\"147\" y=\"-1762\" font-family=\"Linux libertine\" font-size=\"10.00\">Sequential</text>\n<text text-anchor=\"start\" x=\"156\" y=\"-1751\" font-family=\"Linux libertine\" font-size=\"10.00\">depth:3</text>\n<polygon fill=\"none\" stroke=\"black\" points=\"213,-1759 213,-1780 272,-1780 272,-1759 213,-1759\"/>\n<text text-anchor=\"start\" x=\"224\" y=\"-1767\" font-family=\"Linux libertine\" font-size=\"10.00\">input:</text>\n<polygon fill=\"none\" stroke=\"black\" points=\"272,-1759 272,-1780 385,-1780 385,-1759 272,-1759\"/>\n<text text-anchor=\"start\" x=\"277\" y=\"-1767\" font-family=\"Linux libertine\" font-size=\"10.00\">(1, 128, 28, 28) </text>\n<polygon fill=\"none\" stroke=\"black\" points=\"213,-1738 213,-1759 272,-1759 272,-1738 213,-1738\"/>\n<text text-anchor=\"start\" x=\"218\" y=\"-1746\" font-family=\"Linux libertine\" font-size=\"10.00\">output: </text>\n<polygon fill=\"none\" stroke=\"black\" points=\"272,-1738 272,-1759 385,-1759 385,-1738 272,-1738\"/>\n<text text-anchor=\"start\" x=\"277\" y=\"-1746\" font-family=\"Linux libertine\" font-size=\"10.00\">(1, 128, 28, 28) </text>\n</g>\n<!-- 18&#45;&gt;19 -->\n<g id=\"edge23\" class=\"edge\">\n<title>18&#45;&gt;19</title>\n<path fill=\"none\" stroke=\"black\" d=\"M263,-1815.63C263,-1807.82 263,-1798.73 263,-1790.18\"/>\n<polygon fill=\"black\" stroke=\"black\" points=\"266.5,-1790.16 263,-1780.16 259.5,-1790.16 266.5,-1790.16\"/>\n</g>\n<!-- 19&#45;&gt;20 -->\n<g id=\"edge24\" class=\"edge\">\n<title>19&#45;&gt;20</title>\n<path fill=\"none\" stroke=\"black\" d=\"M263.54,-1737.63C263.74,-1729.82 263.98,-1720.73 264.21,-1712.18\"/>\n<polygon fill=\"black\" stroke=\"black\" points=\"267.71,-1712.25 264.47,-1702.16 260.71,-1712.06 267.71,-1712.25\"/>\n</g>\n<!-- 21 -->\n<g id=\"node22\" class=\"node\">\n<title>21</title>\n<polygon fill=\"#c1ffc1\" stroke=\"transparent\" points=\"377.5,-1624 152.5,-1624 152.5,-1582 377.5,-1582 377.5,-1624\"/>\n<polygon fill=\"none\" stroke=\"black\" points=\"153,-1582 153,-1624 206,-1624 206,-1582 153,-1582\"/>\n<text text-anchor=\"start\" x=\"167\" y=\"-1606\" font-family=\"Linux libertine\" font-size=\"10.00\">ReLU</text>\n<text text-anchor=\"start\" x=\"158\" y=\"-1595\" font-family=\"Linux libertine\" font-size=\"10.00\">depth:3</text>\n<polygon fill=\"none\" stroke=\"black\" points=\"206,-1603 206,-1624 265,-1624 265,-1603 206,-1603\"/>\n<text text-anchor=\"start\" x=\"217\" y=\"-1611\" font-family=\"Linux libertine\" font-size=\"10.00\">input:</text>\n<polygon fill=\"none\" stroke=\"black\" points=\"265,-1603 265,-1624 378,-1624 378,-1603 265,-1603\"/>\n<text text-anchor=\"start\" x=\"270\" y=\"-1611\" font-family=\"Linux libertine\" font-size=\"10.00\">(1, 128, 28, 28) </text>\n<polygon fill=\"none\" stroke=\"black\" points=\"206,-1582 206,-1603 265,-1603 265,-1582 206,-1582\"/>\n<text text-anchor=\"start\" x=\"211\" y=\"-1590\" font-family=\"Linux libertine\" font-size=\"10.00\">output: </text>\n<polygon fill=\"none\" stroke=\"black\" points=\"265,-1582 265,-1603 378,-1603 378,-1582 265,-1582\"/>\n<text text-anchor=\"start\" x=\"270\" y=\"-1590\" font-family=\"Linux libertine\" font-size=\"10.00\">(1, 128, 28, 28) </text>\n</g>\n<!-- 20&#45;&gt;21 -->\n<g id=\"edge25\" class=\"edge\">\n<title>20&#45;&gt;21</title>\n<path fill=\"none\" stroke=\"black\" d=\"M265,-1659.63C265,-1651.82 265,-1642.73 265,-1634.18\"/>\n<polygon fill=\"black\" stroke=\"black\" points=\"268.5,-1634.16 265,-1624.16 261.5,-1634.16 268.5,-1634.16\"/>\n</g>\n<!-- 22 -->\n<g id=\"node23\" class=\"node\">\n<title>22</title>\n<polygon fill=\"#c1ffc1\" stroke=\"transparent\" points=\"368.5,-1500 125.5,-1500 125.5,-1458 368.5,-1458 368.5,-1500\"/>\n<polygon fill=\"none\" stroke=\"black\" points=\"126,-1458 126,-1500 197,-1500 197,-1458 126,-1458\"/>\n<text text-anchor=\"start\" x=\"131\" y=\"-1482\" font-family=\"Linux libertine\" font-size=\"10.00\">Sequential</text>\n<text text-anchor=\"start\" x=\"140\" y=\"-1471\" font-family=\"Linux libertine\" font-size=\"10.00\">depth:3</text>\n<polygon fill=\"none\" stroke=\"black\" points=\"197,-1479 197,-1500 256,-1500 256,-1479 197,-1479\"/>\n<text text-anchor=\"start\" x=\"208\" y=\"-1487\" font-family=\"Linux libertine\" font-size=\"10.00\">input:</text>\n<polygon fill=\"none\" stroke=\"black\" points=\"256,-1479 256,-1500 369,-1500 369,-1479 256,-1479\"/>\n<text text-anchor=\"start\" x=\"261\" y=\"-1487\" font-family=\"Linux libertine\" font-size=\"10.00\">(1, 128, 28, 28) </text>\n<polygon fill=\"none\" stroke=\"black\" points=\"197,-1458 197,-1479 256,-1479 256,-1458 197,-1458\"/>\n<text text-anchor=\"start\" x=\"202\" y=\"-1466\" font-family=\"Linux libertine\" font-size=\"10.00\">output: </text>\n<polygon fill=\"none\" stroke=\"black\" points=\"256,-1458 256,-1479 369,-1479 369,-1458 256,-1458\"/>\n<text text-anchor=\"start\" x=\"261\" y=\"-1466\" font-family=\"Linux libertine\" font-size=\"10.00\">(1, 256, 14, 14) </text>\n</g>\n<!-- 21&#45;&gt;22 -->\n<g id=\"edge26\" class=\"edge\">\n<title>21&#45;&gt;22</title>\n<path fill=\"none\" stroke=\"black\" d=\"M262.03,-1581.85C259.15,-1562.34 254.75,-1532.5 251.45,-1510.16\"/>\n<polygon fill=\"black\" stroke=\"black\" points=\"254.9,-1509.56 249.98,-1500.18 247.97,-1510.58 254.9,-1509.56\"/>\n</g>\n<!-- 24 -->\n<g id=\"node25\" class=\"node\">\n<title>24</title>\n<polygon fill=\"#c1ffc1\" stroke=\"transparent\" points=\"601.5,-1422 358.5,-1422 358.5,-1380 601.5,-1380 601.5,-1422\"/>\n<polygon fill=\"none\" stroke=\"black\" points=\"359,-1380 359,-1422 430,-1422 430,-1380 359,-1380\"/>\n<text text-anchor=\"start\" x=\"364\" y=\"-1404\" font-family=\"Linux libertine\" font-size=\"10.00\">Sequential</text>\n<text text-anchor=\"start\" x=\"373\" y=\"-1393\" font-family=\"Linux libertine\" font-size=\"10.00\">depth:3</text>\n<polygon fill=\"none\" stroke=\"black\" points=\"430,-1401 430,-1422 489,-1422 489,-1401 430,-1401\"/>\n<text text-anchor=\"start\" x=\"441\" y=\"-1409\" font-family=\"Linux libertine\" font-size=\"10.00\">input:</text>\n<polygon fill=\"none\" stroke=\"black\" points=\"489,-1401 489,-1422 602,-1422 602,-1401 489,-1401\"/>\n<text text-anchor=\"start\" x=\"494\" y=\"-1409\" font-family=\"Linux libertine\" font-size=\"10.00\">(1, 128, 28, 28) </text>\n<polygon fill=\"none\" stroke=\"black\" points=\"430,-1380 430,-1401 489,-1401 489,-1380 430,-1380\"/>\n<text text-anchor=\"start\" x=\"435\" y=\"-1388\" font-family=\"Linux libertine\" font-size=\"10.00\">output: </text>\n<polygon fill=\"none\" stroke=\"black\" points=\"489,-1380 489,-1401 602,-1401 602,-1380 489,-1380\"/>\n<text text-anchor=\"start\" x=\"494\" y=\"-1388\" font-family=\"Linux libertine\" font-size=\"10.00\">(1, 256, 14, 14) </text>\n</g>\n<!-- 21&#45;&gt;24 -->\n<g id=\"edge27\" class=\"edge\">\n<title>21&#45;&gt;24</title>\n<path fill=\"none\" stroke=\"black\" d=\"M336.49,-1581.91C351.16,-1575.74 365.82,-1567.88 378,-1558 420.73,-1523.34 451.69,-1465.91 467.67,-1431.24\"/>\n<polygon fill=\"black\" stroke=\"black\" points=\"470.87,-1432.66 471.78,-1422.11 464.48,-1429.79 470.87,-1432.66\"/>\n</g>\n<!-- 23 -->\n<g id=\"node24\" class=\"node\">\n<title>23</title>\n<polygon fill=\"#c1ffc1\" stroke=\"transparent\" points=\"340.5,-1422 97.5,-1422 97.5,-1380 340.5,-1380 340.5,-1422\"/>\n<polygon fill=\"none\" stroke=\"black\" points=\"98,-1380 98,-1422 169,-1422 169,-1380 98,-1380\"/>\n<text text-anchor=\"start\" x=\"103\" y=\"-1404\" font-family=\"Linux libertine\" font-size=\"10.00\">Sequential</text>\n<text text-anchor=\"start\" x=\"112\" y=\"-1393\" font-family=\"Linux libertine\" font-size=\"10.00\">depth:3</text>\n<polygon fill=\"none\" stroke=\"black\" points=\"169,-1401 169,-1422 228,-1422 228,-1401 169,-1401\"/>\n<text text-anchor=\"start\" x=\"180\" y=\"-1409\" font-family=\"Linux libertine\" font-size=\"10.00\">input:</text>\n<polygon fill=\"none\" stroke=\"black\" points=\"228,-1401 228,-1422 341,-1422 341,-1401 228,-1401\"/>\n<text text-anchor=\"start\" x=\"233\" y=\"-1409\" font-family=\"Linux libertine\" font-size=\"10.00\">(1, 256, 14, 14) </text>\n<polygon fill=\"none\" stroke=\"black\" points=\"169,-1380 169,-1401 228,-1401 228,-1380 169,-1380\"/>\n<text text-anchor=\"start\" x=\"174\" y=\"-1388\" font-family=\"Linux libertine\" font-size=\"10.00\">output: </text>\n<polygon fill=\"none\" stroke=\"black\" points=\"228,-1380 228,-1401 341,-1401 341,-1380 228,-1380\"/>\n<text text-anchor=\"start\" x=\"233\" y=\"-1388\" font-family=\"Linux libertine\" font-size=\"10.00\">(1, 256, 14, 14) </text>\n</g>\n<!-- 22&#45;&gt;23 -->\n<g id=\"edge28\" class=\"edge\">\n<title>22&#45;&gt;23</title>\n<path fill=\"none\" stroke=\"black\" d=\"M239.5,-1457.63C236.55,-1449.65 233.12,-1440.33 229.91,-1431.62\"/>\n<polygon fill=\"black\" stroke=\"black\" points=\"233.17,-1430.33 226.43,-1422.16 226.6,-1432.75 233.17,-1430.33\"/>\n</g>\n<!-- 25 -->\n<g id=\"node26\" class=\"node\">\n<title>25</title>\n<polygon fill=\"aliceblue\" stroke=\"transparent\" points=\"346.5,-1344 97.5,-1344 97.5,-1302 346.5,-1302 346.5,-1344\"/>\n<polygon fill=\"none\" stroke=\"black\" points=\"98,-1302 98,-1344 151,-1344 151,-1302 98,-1302\"/>\n<text text-anchor=\"start\" x=\"112\" y=\"-1326\" font-family=\"Linux libertine\" font-size=\"10.00\">add_</text>\n<text text-anchor=\"start\" x=\"103\" y=\"-1315\" font-family=\"Linux libertine\" font-size=\"10.00\">depth:3</text>\n<polygon fill=\"none\" stroke=\"black\" points=\"151,-1323 151,-1344 210,-1344 210,-1323 151,-1323\"/>\n<text text-anchor=\"start\" x=\"162\" y=\"-1331\" font-family=\"Linux libertine\" font-size=\"10.00\">input:</text>\n<polygon fill=\"none\" stroke=\"black\" points=\"210,-1323 210,-1344 347,-1344 347,-1323 210,-1323\"/>\n<text text-anchor=\"start\" x=\"215\" y=\"-1331\" font-family=\"Linux libertine\" font-size=\"10.00\">2 x (1, 256, 14, 14) </text>\n<polygon fill=\"none\" stroke=\"black\" points=\"151,-1302 151,-1323 210,-1323 210,-1302 151,-1302\"/>\n<text text-anchor=\"start\" x=\"156\" y=\"-1310\" font-family=\"Linux libertine\" font-size=\"10.00\">output: </text>\n<polygon fill=\"none\" stroke=\"black\" points=\"210,-1302 210,-1323 347,-1323 347,-1302 210,-1302\"/>\n<text text-anchor=\"start\" x=\"227\" y=\"-1310\" font-family=\"Linux libertine\" font-size=\"10.00\">(1, 256, 14, 14) </text>\n</g>\n<!-- 23&#45;&gt;25 -->\n<g id=\"edge29\" class=\"edge\">\n<title>23&#45;&gt;25</title>\n<path fill=\"none\" stroke=\"black\" d=\"M219.8,-1379.63C220.11,-1371.82 220.47,-1362.73 220.81,-1354.18\"/>\n<polygon fill=\"black\" stroke=\"black\" points=\"224.31,-1354.29 221.2,-1344.16 217.31,-1354.01 224.31,-1354.29\"/>\n</g>\n<!-- 24&#45;&gt;25 -->\n<g id=\"edge30\" class=\"edge\">\n<title>24&#45;&gt;25</title>\n<path fill=\"none\" stroke=\"black\" d=\"M411.88,-1379.93C377.49,-1369.8 335.61,-1357.47 299.94,-1346.96\"/>\n<polygon fill=\"black\" stroke=\"black\" points=\"300.64,-1343.52 290.06,-1344.05 298.66,-1350.23 300.64,-1343.52\"/>\n</g>\n<!-- 26 -->\n<g id=\"node27\" class=\"node\">\n<title>26</title>\n<polygon fill=\"#c1ffc1\" stroke=\"transparent\" points=\"334.5,-1266 109.5,-1266 109.5,-1224 334.5,-1224 334.5,-1266\"/>\n<polygon fill=\"none\" stroke=\"black\" points=\"110,-1224 110,-1266 163,-1266 163,-1224 110,-1224\"/>\n<text text-anchor=\"start\" x=\"124\" y=\"-1248\" font-family=\"Linux libertine\" font-size=\"10.00\">ReLU</text>\n<text text-anchor=\"start\" x=\"115\" y=\"-1237\" font-family=\"Linux libertine\" font-size=\"10.00\">depth:3</text>\n<polygon fill=\"none\" stroke=\"black\" points=\"163,-1245 163,-1266 222,-1266 222,-1245 163,-1245\"/>\n<text text-anchor=\"start\" x=\"174\" y=\"-1253\" font-family=\"Linux libertine\" font-size=\"10.00\">input:</text>\n<polygon fill=\"none\" stroke=\"black\" points=\"222,-1245 222,-1266 335,-1266 335,-1245 222,-1245\"/>\n<text text-anchor=\"start\" x=\"227\" y=\"-1253\" font-family=\"Linux libertine\" font-size=\"10.00\">(1, 256, 14, 14) </text>\n<polygon fill=\"none\" stroke=\"black\" points=\"163,-1224 163,-1245 222,-1245 222,-1224 163,-1224\"/>\n<text text-anchor=\"start\" x=\"168\" y=\"-1232\" font-family=\"Linux libertine\" font-size=\"10.00\">output: </text>\n<polygon fill=\"none\" stroke=\"black\" points=\"222,-1224 222,-1245 335,-1245 335,-1224 222,-1224\"/>\n<text text-anchor=\"start\" x=\"227\" y=\"-1232\" font-family=\"Linux libertine\" font-size=\"10.00\">(1, 256, 14, 14) </text>\n</g>\n<!-- 25&#45;&gt;26 -->\n<g id=\"edge31\" class=\"edge\">\n<title>25&#45;&gt;26</title>\n<path fill=\"none\" stroke=\"black\" d=\"M222,-1301.63C222,-1293.82 222,-1284.73 222,-1276.18\"/>\n<polygon fill=\"black\" stroke=\"black\" points=\"225.5,-1276.16 222,-1266.16 218.5,-1276.16 225.5,-1276.16\"/>\n</g>\n<!-- 27 -->\n<g id=\"node28\" class=\"node\">\n<title>27</title>\n<polygon fill=\"#c1ffc1\" stroke=\"transparent\" points=\"342.5,-1179 99.5,-1179 99.5,-1137 342.5,-1137 342.5,-1179\"/>\n<polygon fill=\"none\" stroke=\"black\" points=\"100,-1137 100,-1179 171,-1179 171,-1137 100,-1137\"/>\n<text text-anchor=\"start\" x=\"105\" y=\"-1161\" font-family=\"Linux libertine\" font-size=\"10.00\">Sequential</text>\n<text text-anchor=\"start\" x=\"114\" y=\"-1150\" font-family=\"Linux libertine\" font-size=\"10.00\">depth:3</text>\n<polygon fill=\"none\" stroke=\"black\" points=\"171,-1158 171,-1179 230,-1179 230,-1158 171,-1158\"/>\n<text text-anchor=\"start\" x=\"182\" y=\"-1166\" font-family=\"Linux libertine\" font-size=\"10.00\">input:</text>\n<polygon fill=\"none\" stroke=\"black\" points=\"230,-1158 230,-1179 343,-1179 343,-1158 230,-1158\"/>\n<text text-anchor=\"start\" x=\"235\" y=\"-1166\" font-family=\"Linux libertine\" font-size=\"10.00\">(1, 256, 14, 14) </text>\n<polygon fill=\"none\" stroke=\"black\" points=\"171,-1137 171,-1158 230,-1158 230,-1137 171,-1137\"/>\n<text text-anchor=\"start\" x=\"176\" y=\"-1145\" font-family=\"Linux libertine\" font-size=\"10.00\">output: </text>\n<polygon fill=\"none\" stroke=\"black\" points=\"230,-1137 230,-1158 343,-1158 343,-1137 230,-1137\"/>\n<text text-anchor=\"start\" x=\"235\" y=\"-1145\" font-family=\"Linux libertine\" font-size=\"10.00\">(1, 256, 14, 14) </text>\n</g>\n<!-- 26&#45;&gt;27 -->\n<g id=\"edge32\" class=\"edge\">\n<title>26&#45;&gt;27</title>\n<path fill=\"none\" stroke=\"black\" d=\"M221.76,-1223.86C221.64,-1213.56 221.49,-1200.81 221.36,-1189.35\"/>\n<polygon fill=\"black\" stroke=\"black\" points=\"224.86,-1189.25 221.24,-1179.29 217.86,-1189.33 224.86,-1189.25\"/>\n</g>\n<!-- 29 -->\n<g id=\"node30\" class=\"node\">\n<title>29</title>\n<polygon fill=\"aliceblue\" stroke=\"transparent\" points=\"347.5,-1023 98.5,-1023 98.5,-981 347.5,-981 347.5,-1023\"/>\n<polygon fill=\"none\" stroke=\"black\" points=\"99,-981 99,-1023 152,-1023 152,-981 99,-981\"/>\n<text text-anchor=\"start\" x=\"113\" y=\"-1005\" font-family=\"Linux libertine\" font-size=\"10.00\">add_</text>\n<text text-anchor=\"start\" x=\"104\" y=\"-994\" font-family=\"Linux libertine\" font-size=\"10.00\">depth:3</text>\n<polygon fill=\"none\" stroke=\"black\" points=\"152,-1002 152,-1023 211,-1023 211,-1002 152,-1002\"/>\n<text text-anchor=\"start\" x=\"163\" y=\"-1010\" font-family=\"Linux libertine\" font-size=\"10.00\">input:</text>\n<polygon fill=\"none\" stroke=\"black\" points=\"211,-1002 211,-1023 348,-1023 348,-1002 211,-1002\"/>\n<text text-anchor=\"start\" x=\"216\" y=\"-1010\" font-family=\"Linux libertine\" font-size=\"10.00\">2 x (1, 256, 14, 14) </text>\n<polygon fill=\"none\" stroke=\"black\" points=\"152,-981 152,-1002 211,-1002 211,-981 152,-981\"/>\n<text text-anchor=\"start\" x=\"157\" y=\"-989\" font-family=\"Linux libertine\" font-size=\"10.00\">output: </text>\n<polygon fill=\"none\" stroke=\"black\" points=\"211,-981 211,-1002 348,-1002 348,-981 211,-981\"/>\n<text text-anchor=\"start\" x=\"228\" y=\"-989\" font-family=\"Linux libertine\" font-size=\"10.00\">(1, 256, 14, 14) </text>\n</g>\n<!-- 26&#45;&gt;29 -->\n<g id=\"edge33\" class=\"edge\">\n<title>26&#45;&gt;29</title>\n<path fill=\"none\" stroke=\"black\" d=\"M322.34,-1223.94C335.7,-1219.38 346.4,-1214.07 351,-1208 391.04,-1155.25 387.25,-1114.42 351,-1059 342.34,-1045.76 329.79,-1035.63 315.89,-1027.89\"/>\n<polygon fill=\"black\" stroke=\"black\" points=\"317.08,-1024.57 306.58,-1023.14 313.9,-1030.8 317.08,-1024.57\"/>\n</g>\n<!-- 28 -->\n<g id=\"node29\" class=\"node\">\n<title>28</title>\n<polygon fill=\"#c1ffc1\" stroke=\"transparent\" points=\"342.5,-1101 99.5,-1101 99.5,-1059 342.5,-1059 342.5,-1101\"/>\n<polygon fill=\"none\" stroke=\"black\" points=\"100,-1059 100,-1101 171,-1101 171,-1059 100,-1059\"/>\n<text text-anchor=\"start\" x=\"105\" y=\"-1083\" font-family=\"Linux libertine\" font-size=\"10.00\">Sequential</text>\n<text text-anchor=\"start\" x=\"114\" y=\"-1072\" font-family=\"Linux libertine\" font-size=\"10.00\">depth:3</text>\n<polygon fill=\"none\" stroke=\"black\" points=\"171,-1080 171,-1101 230,-1101 230,-1080 171,-1080\"/>\n<text text-anchor=\"start\" x=\"182\" y=\"-1088\" font-family=\"Linux libertine\" font-size=\"10.00\">input:</text>\n<polygon fill=\"none\" stroke=\"black\" points=\"230,-1080 230,-1101 343,-1101 343,-1080 230,-1080\"/>\n<text text-anchor=\"start\" x=\"235\" y=\"-1088\" font-family=\"Linux libertine\" font-size=\"10.00\">(1, 256, 14, 14) </text>\n<polygon fill=\"none\" stroke=\"black\" points=\"171,-1059 171,-1080 230,-1080 230,-1059 171,-1059\"/>\n<text text-anchor=\"start\" x=\"176\" y=\"-1067\" font-family=\"Linux libertine\" font-size=\"10.00\">output: </text>\n<polygon fill=\"none\" stroke=\"black\" points=\"230,-1059 230,-1080 343,-1080 343,-1059 230,-1059\"/>\n<text text-anchor=\"start\" x=\"235\" y=\"-1067\" font-family=\"Linux libertine\" font-size=\"10.00\">(1, 256, 14, 14) </text>\n</g>\n<!-- 27&#45;&gt;28 -->\n<g id=\"edge34\" class=\"edge\">\n<title>27&#45;&gt;28</title>\n<path fill=\"none\" stroke=\"black\" d=\"M221,-1136.63C221,-1128.82 221,-1119.73 221,-1111.18\"/>\n<polygon fill=\"black\" stroke=\"black\" points=\"224.5,-1111.16 221,-1101.16 217.5,-1111.16 224.5,-1111.16\"/>\n</g>\n<!-- 28&#45;&gt;29 -->\n<g id=\"edge35\" class=\"edge\">\n<title>28&#45;&gt;29</title>\n<path fill=\"none\" stroke=\"black\" d=\"M221.54,-1058.63C221.74,-1050.82 221.98,-1041.73 222.21,-1033.18\"/>\n<polygon fill=\"black\" stroke=\"black\" points=\"225.71,-1033.25 222.47,-1023.16 218.71,-1033.06 225.71,-1033.25\"/>\n</g>\n<!-- 30 -->\n<g id=\"node31\" class=\"node\">\n<title>30</title>\n<polygon fill=\"#c1ffc1\" stroke=\"transparent\" points=\"335.5,-945 110.5,-945 110.5,-903 335.5,-903 335.5,-945\"/>\n<polygon fill=\"none\" stroke=\"black\" points=\"111,-903 111,-945 164,-945 164,-903 111,-903\"/>\n<text text-anchor=\"start\" x=\"125\" y=\"-927\" font-family=\"Linux libertine\" font-size=\"10.00\">ReLU</text>\n<text text-anchor=\"start\" x=\"116\" y=\"-916\" font-family=\"Linux libertine\" font-size=\"10.00\">depth:3</text>\n<polygon fill=\"none\" stroke=\"black\" points=\"164,-924 164,-945 223,-945 223,-924 164,-924\"/>\n<text text-anchor=\"start\" x=\"175\" y=\"-932\" font-family=\"Linux libertine\" font-size=\"10.00\">input:</text>\n<polygon fill=\"none\" stroke=\"black\" points=\"223,-924 223,-945 336,-945 336,-924 223,-924\"/>\n<text text-anchor=\"start\" x=\"228\" y=\"-932\" font-family=\"Linux libertine\" font-size=\"10.00\">(1, 256, 14, 14) </text>\n<polygon fill=\"none\" stroke=\"black\" points=\"164,-903 164,-924 223,-924 223,-903 164,-903\"/>\n<text text-anchor=\"start\" x=\"169\" y=\"-911\" font-family=\"Linux libertine\" font-size=\"10.00\">output: </text>\n<polygon fill=\"none\" stroke=\"black\" points=\"223,-903 223,-924 336,-924 336,-903 223,-903\"/>\n<text text-anchor=\"start\" x=\"228\" y=\"-911\" font-family=\"Linux libertine\" font-size=\"10.00\">(1, 256, 14, 14) </text>\n</g>\n<!-- 29&#45;&gt;30 -->\n<g id=\"edge36\" class=\"edge\">\n<title>29&#45;&gt;30</title>\n<path fill=\"none\" stroke=\"black\" d=\"M223,-980.63C223,-972.82 223,-963.73 223,-955.18\"/>\n<polygon fill=\"black\" stroke=\"black\" points=\"226.5,-955.16 223,-945.16 219.5,-955.16 226.5,-955.16\"/>\n</g>\n<!-- 31 -->\n<g id=\"node32\" class=\"node\">\n<title>31</title>\n<polygon fill=\"#c1ffc1\" stroke=\"transparent\" points=\"281.5,-821 38.5,-821 38.5,-779 281.5,-779 281.5,-821\"/>\n<polygon fill=\"none\" stroke=\"black\" points=\"39,-779 39,-821 110,-821 110,-779 39,-779\"/>\n<text text-anchor=\"start\" x=\"44\" y=\"-803\" font-family=\"Linux libertine\" font-size=\"10.00\">Sequential</text>\n<text text-anchor=\"start\" x=\"53\" y=\"-792\" font-family=\"Linux libertine\" font-size=\"10.00\">depth:3</text>\n<polygon fill=\"none\" stroke=\"black\" points=\"110,-800 110,-821 169,-821 169,-800 110,-800\"/>\n<text text-anchor=\"start\" x=\"121\" y=\"-808\" font-family=\"Linux libertine\" font-size=\"10.00\">input:</text>\n<polygon fill=\"none\" stroke=\"black\" points=\"169,-800 169,-821 282,-821 282,-800 169,-800\"/>\n<text text-anchor=\"start\" x=\"174\" y=\"-808\" font-family=\"Linux libertine\" font-size=\"10.00\">(1, 256, 14, 14) </text>\n<polygon fill=\"none\" stroke=\"black\" points=\"110,-779 110,-800 169,-800 169,-779 110,-779\"/>\n<text text-anchor=\"start\" x=\"115\" y=\"-787\" font-family=\"Linux libertine\" font-size=\"10.00\">output: </text>\n<polygon fill=\"none\" stroke=\"black\" points=\"169,-779 169,-800 282,-800 282,-779 169,-779\"/>\n<text text-anchor=\"start\" x=\"180\" y=\"-787\" font-family=\"Linux libertine\" font-size=\"10.00\">(1, 512, 7, 7) </text>\n</g>\n<!-- 30&#45;&gt;31 -->\n<g id=\"edge37\" class=\"edge\">\n<title>30&#45;&gt;31</title>\n<path fill=\"none\" stroke=\"black\" d=\"M212.6,-902.85C202.38,-883.08 186.69,-852.69 175.11,-830.25\"/>\n<polygon fill=\"black\" stroke=\"black\" points=\"178.12,-828.46 170.42,-821.18 171.9,-831.67 178.12,-828.46\"/>\n</g>\n<!-- 33 -->\n<g id=\"node34\" class=\"node\">\n<title>33</title>\n<polygon fill=\"#c1ffc1\" stroke=\"transparent\" points=\"524.5,-743 281.5,-743 281.5,-701 524.5,-701 524.5,-743\"/>\n<polygon fill=\"none\" stroke=\"black\" points=\"282,-701 282,-743 353,-743 353,-701 282,-701\"/>\n<text text-anchor=\"start\" x=\"287\" y=\"-725\" font-family=\"Linux libertine\" font-size=\"10.00\">Sequential</text>\n<text text-anchor=\"start\" x=\"296\" y=\"-714\" font-family=\"Linux libertine\" font-size=\"10.00\">depth:3</text>\n<polygon fill=\"none\" stroke=\"black\" points=\"353,-722 353,-743 412,-743 412,-722 353,-722\"/>\n<text text-anchor=\"start\" x=\"364\" y=\"-730\" font-family=\"Linux libertine\" font-size=\"10.00\">input:</text>\n<polygon fill=\"none\" stroke=\"black\" points=\"412,-722 412,-743 525,-743 525,-722 412,-722\"/>\n<text text-anchor=\"start\" x=\"417\" y=\"-730\" font-family=\"Linux libertine\" font-size=\"10.00\">(1, 256, 14, 14) </text>\n<polygon fill=\"none\" stroke=\"black\" points=\"353,-701 353,-722 412,-722 412,-701 353,-701\"/>\n<text text-anchor=\"start\" x=\"358\" y=\"-709\" font-family=\"Linux libertine\" font-size=\"10.00\">output: </text>\n<polygon fill=\"none\" stroke=\"black\" points=\"412,-701 412,-722 525,-722 525,-701 412,-701\"/>\n<text text-anchor=\"start\" x=\"423\" y=\"-709\" font-family=\"Linux libertine\" font-size=\"10.00\">(1, 512, 7, 7) </text>\n</g>\n<!-- 30&#45;&gt;33 -->\n<g id=\"edge38\" class=\"edge\">\n<title>30&#45;&gt;33</title>\n<path fill=\"none\" stroke=\"black\" d=\"M258.86,-902.85C269.49,-896.01 280.74,-887.84 290,-879 330.56,-840.26 366.48,-785.31 386.43,-752.03\"/>\n<polygon fill=\"black\" stroke=\"black\" points=\"389.54,-753.64 391.62,-743.25 383.52,-750.08 389.54,-753.64\"/>\n</g>\n<!-- 32 -->\n<g id=\"node33\" class=\"node\">\n<title>32</title>\n<polygon fill=\"#c1ffc1\" stroke=\"transparent\" points=\"263.5,-743 32.5,-743 32.5,-701 263.5,-701 263.5,-743\"/>\n<polygon fill=\"none\" stroke=\"black\" points=\"33,-701 33,-743 104,-743 104,-701 33,-701\"/>\n<text text-anchor=\"start\" x=\"38\" y=\"-725\" font-family=\"Linux libertine\" font-size=\"10.00\">Sequential</text>\n<text text-anchor=\"start\" x=\"47\" y=\"-714\" font-family=\"Linux libertine\" font-size=\"10.00\">depth:3</text>\n<polygon fill=\"none\" stroke=\"black\" points=\"104,-722 104,-743 163,-743 163,-722 104,-722\"/>\n<text text-anchor=\"start\" x=\"115\" y=\"-730\" font-family=\"Linux libertine\" font-size=\"10.00\">input:</text>\n<polygon fill=\"none\" stroke=\"black\" points=\"163,-722 163,-743 264,-743 264,-722 163,-722\"/>\n<text text-anchor=\"start\" x=\"168\" y=\"-730\" font-family=\"Linux libertine\" font-size=\"10.00\">(1, 512, 7, 7) </text>\n<polygon fill=\"none\" stroke=\"black\" points=\"104,-701 104,-722 163,-722 163,-701 104,-701\"/>\n<text text-anchor=\"start\" x=\"109\" y=\"-709\" font-family=\"Linux libertine\" font-size=\"10.00\">output: </text>\n<polygon fill=\"none\" stroke=\"black\" points=\"163,-701 163,-722 264,-722 264,-701 163,-701\"/>\n<text text-anchor=\"start\" x=\"168\" y=\"-709\" font-family=\"Linux libertine\" font-size=\"10.00\">(1, 512, 7, 7) </text>\n</g>\n<!-- 31&#45;&gt;32 -->\n<g id=\"edge39\" class=\"edge\">\n<title>31&#45;&gt;32</title>\n<path fill=\"none\" stroke=\"black\" d=\"M156.78,-778.63C155.55,-770.82 154.11,-761.73 152.77,-753.18\"/>\n<polygon fill=\"black\" stroke=\"black\" points=\"156.2,-752.49 151.18,-743.16 149.29,-753.58 156.2,-752.49\"/>\n</g>\n<!-- 34 -->\n<g id=\"node35\" class=\"node\">\n<title>34</title>\n<polygon fill=\"aliceblue\" stroke=\"transparent\" points=\"392.5,-665 155.5,-665 155.5,-623 392.5,-623 392.5,-665\"/>\n<polygon fill=\"none\" stroke=\"black\" points=\"156,-623 156,-665 209,-665 209,-623 156,-623\"/>\n<text text-anchor=\"start\" x=\"170\" y=\"-647\" font-family=\"Linux libertine\" font-size=\"10.00\">add_</text>\n<text text-anchor=\"start\" x=\"161\" y=\"-636\" font-family=\"Linux libertine\" font-size=\"10.00\">depth:3</text>\n<polygon fill=\"none\" stroke=\"black\" points=\"209,-644 209,-665 268,-665 268,-644 209,-644\"/>\n<text text-anchor=\"start\" x=\"220\" y=\"-652\" font-family=\"Linux libertine\" font-size=\"10.00\">input:</text>\n<polygon fill=\"none\" stroke=\"black\" points=\"268,-644 268,-665 393,-665 393,-644 268,-644\"/>\n<text text-anchor=\"start\" x=\"273\" y=\"-652\" font-family=\"Linux libertine\" font-size=\"10.00\">2 x (1, 512, 7, 7) </text>\n<polygon fill=\"none\" stroke=\"black\" points=\"209,-623 209,-644 268,-644 268,-623 209,-623\"/>\n<text text-anchor=\"start\" x=\"214\" y=\"-631\" font-family=\"Linux libertine\" font-size=\"10.00\">output: </text>\n<polygon fill=\"none\" stroke=\"black\" points=\"268,-623 268,-644 393,-644 393,-623 268,-623\"/>\n<text text-anchor=\"start\" x=\"285\" y=\"-631\" font-family=\"Linux libertine\" font-size=\"10.00\">(1, 512, 7, 7) </text>\n</g>\n<!-- 32&#45;&gt;34 -->\n<g id=\"edge40\" class=\"edge\">\n<title>32&#45;&gt;34</title>\n<path fill=\"none\" stroke=\"black\" d=\"M181.43,-700.83C196.81,-691.56 215.23,-680.45 231.58,-670.59\"/>\n<polygon fill=\"black\" stroke=\"black\" points=\"233.65,-673.42 240.41,-665.26 230.04,-667.43 233.65,-673.42\"/>\n</g>\n<!-- 33&#45;&gt;34 -->\n<g id=\"edge41\" class=\"edge\">\n<title>33&#45;&gt;34</title>\n<path fill=\"none\" stroke=\"black\" d=\"M368.77,-700.83C353.02,-691.56 334.17,-680.45 317.43,-670.59\"/>\n<polygon fill=\"black\" stroke=\"black\" points=\"318.78,-667.32 308.39,-665.26 315.23,-673.35 318.78,-667.32\"/>\n</g>\n<!-- 35 -->\n<g id=\"node36\" class=\"node\">\n<title>35</title>\n<polygon fill=\"#c1ffc1\" stroke=\"transparent\" points=\"380.5,-587 167.5,-587 167.5,-545 380.5,-545 380.5,-587\"/>\n<polygon fill=\"none\" stroke=\"black\" points=\"168,-545 168,-587 221,-587 221,-545 168,-545\"/>\n<text text-anchor=\"start\" x=\"182\" y=\"-569\" font-family=\"Linux libertine\" font-size=\"10.00\">ReLU</text>\n<text text-anchor=\"start\" x=\"173\" y=\"-558\" font-family=\"Linux libertine\" font-size=\"10.00\">depth:3</text>\n<polygon fill=\"none\" stroke=\"black\" points=\"221,-566 221,-587 280,-587 280,-566 221,-566\"/>\n<text text-anchor=\"start\" x=\"232\" y=\"-574\" font-family=\"Linux libertine\" font-size=\"10.00\">input:</text>\n<polygon fill=\"none\" stroke=\"black\" points=\"280,-566 280,-587 381,-587 381,-566 280,-566\"/>\n<text text-anchor=\"start\" x=\"285\" y=\"-574\" font-family=\"Linux libertine\" font-size=\"10.00\">(1, 512, 7, 7) </text>\n<polygon fill=\"none\" stroke=\"black\" points=\"221,-545 221,-566 280,-566 280,-545 221,-545\"/>\n<text text-anchor=\"start\" x=\"226\" y=\"-553\" font-family=\"Linux libertine\" font-size=\"10.00\">output: </text>\n<polygon fill=\"none\" stroke=\"black\" points=\"280,-545 280,-566 381,-566 381,-545 280,-545\"/>\n<text text-anchor=\"start\" x=\"285\" y=\"-553\" font-family=\"Linux libertine\" font-size=\"10.00\">(1, 512, 7, 7) </text>\n</g>\n<!-- 34&#45;&gt;35 -->\n<g id=\"edge42\" class=\"edge\">\n<title>34&#45;&gt;35</title>\n<path fill=\"none\" stroke=\"black\" d=\"M274,-622.63C274,-614.82 274,-605.73 274,-597.18\"/>\n<polygon fill=\"black\" stroke=\"black\" points=\"277.5,-597.16 274,-587.16 270.5,-597.16 277.5,-597.16\"/>\n</g>\n<!-- 36 -->\n<g id=\"node37\" class=\"node\">\n<title>36</title>\n<polygon fill=\"#c1ffc1\" stroke=\"transparent\" points=\"327.5,-500 96.5,-500 96.5,-458 327.5,-458 327.5,-500\"/>\n<polygon fill=\"none\" stroke=\"black\" points=\"97,-458 97,-500 168,-500 168,-458 97,-458\"/>\n<text text-anchor=\"start\" x=\"102\" y=\"-482\" font-family=\"Linux libertine\" font-size=\"10.00\">Sequential</text>\n<text text-anchor=\"start\" x=\"111\" y=\"-471\" font-family=\"Linux libertine\" font-size=\"10.00\">depth:3</text>\n<polygon fill=\"none\" stroke=\"black\" points=\"168,-479 168,-500 227,-500 227,-479 168,-479\"/>\n<text text-anchor=\"start\" x=\"179\" y=\"-487\" font-family=\"Linux libertine\" font-size=\"10.00\">input:</text>\n<polygon fill=\"none\" stroke=\"black\" points=\"227,-479 227,-500 328,-500 328,-479 227,-479\"/>\n<text text-anchor=\"start\" x=\"232\" y=\"-487\" font-family=\"Linux libertine\" font-size=\"10.00\">(1, 512, 7, 7) </text>\n<polygon fill=\"none\" stroke=\"black\" points=\"168,-458 168,-479 227,-479 227,-458 168,-458\"/>\n<text text-anchor=\"start\" x=\"173\" y=\"-466\" font-family=\"Linux libertine\" font-size=\"10.00\">output: </text>\n<polygon fill=\"none\" stroke=\"black\" points=\"227,-458 227,-479 328,-479 328,-458 227,-458\"/>\n<text text-anchor=\"start\" x=\"232\" y=\"-466\" font-family=\"Linux libertine\" font-size=\"10.00\">(1, 512, 7, 7) </text>\n</g>\n<!-- 35&#45;&gt;36 -->\n<g id=\"edge43\" class=\"edge\">\n<title>35&#45;&gt;36</title>\n<path fill=\"none\" stroke=\"black\" d=\"M259.31,-544.86C251.41,-534.03 241.54,-520.5 232.87,-508.61\"/>\n<polygon fill=\"black\" stroke=\"black\" points=\"235.52,-506.31 226.8,-500.29 229.87,-510.44 235.52,-506.31\"/>\n</g>\n<!-- 38 -->\n<g id=\"node39\" class=\"node\">\n<title>38</title>\n<polygon fill=\"aliceblue\" stroke=\"transparent\" points=\"332.5,-344 95.5,-344 95.5,-302 332.5,-302 332.5,-344\"/>\n<polygon fill=\"none\" stroke=\"black\" points=\"96,-302 96,-344 149,-344 149,-302 96,-302\"/>\n<text text-anchor=\"start\" x=\"110\" y=\"-326\" font-family=\"Linux libertine\" font-size=\"10.00\">add_</text>\n<text text-anchor=\"start\" x=\"101\" y=\"-315\" font-family=\"Linux libertine\" font-size=\"10.00\">depth:3</text>\n<polygon fill=\"none\" stroke=\"black\" points=\"149,-323 149,-344 208,-344 208,-323 149,-323\"/>\n<text text-anchor=\"start\" x=\"160\" y=\"-331\" font-family=\"Linux libertine\" font-size=\"10.00\">input:</text>\n<polygon fill=\"none\" stroke=\"black\" points=\"208,-323 208,-344 333,-344 333,-323 208,-323\"/>\n<text text-anchor=\"start\" x=\"213\" y=\"-331\" font-family=\"Linux libertine\" font-size=\"10.00\">2 x (1, 512, 7, 7) </text>\n<polygon fill=\"none\" stroke=\"black\" points=\"149,-302 149,-323 208,-323 208,-302 149,-302\"/>\n<text text-anchor=\"start\" x=\"154\" y=\"-310\" font-family=\"Linux libertine\" font-size=\"10.00\">output: </text>\n<polygon fill=\"none\" stroke=\"black\" points=\"208,-302 208,-323 333,-323 333,-302 208,-302\"/>\n<text text-anchor=\"start\" x=\"225\" y=\"-310\" font-family=\"Linux libertine\" font-size=\"10.00\">(1, 512, 7, 7) </text>\n</g>\n<!-- 35&#45;&gt;38 -->\n<g id=\"edge44\" class=\"edge\">\n<title>35&#45;&gt;38</title>\n<path fill=\"none\" stroke=\"black\" d=\"M321.43,-544.93C327.25,-540.53 332.4,-535.26 336,-529 369.04,-471.61 371.75,-435.74 336,-380 327.54,-366.8 315.1,-356.68 301.36,-348.92\"/>\n<polygon fill=\"black\" stroke=\"black\" points=\"302.66,-345.65 292.17,-344.15 299.43,-351.86 302.66,-345.65\"/>\n</g>\n<!-- 37 -->\n<g id=\"node38\" class=\"node\">\n<title>37</title>\n<polygon fill=\"#c1ffc1\" stroke=\"transparent\" points=\"327.5,-422 96.5,-422 96.5,-380 327.5,-380 327.5,-422\"/>\n<polygon fill=\"none\" stroke=\"black\" points=\"97,-380 97,-422 168,-422 168,-380 97,-380\"/>\n<text text-anchor=\"start\" x=\"102\" y=\"-404\" font-family=\"Linux libertine\" font-size=\"10.00\">Sequential</text>\n<text text-anchor=\"start\" x=\"111\" y=\"-393\" font-family=\"Linux libertine\" font-size=\"10.00\">depth:3</text>\n<polygon fill=\"none\" stroke=\"black\" points=\"168,-401 168,-422 227,-422 227,-401 168,-401\"/>\n<text text-anchor=\"start\" x=\"179\" y=\"-409\" font-family=\"Linux libertine\" font-size=\"10.00\">input:</text>\n<polygon fill=\"none\" stroke=\"black\" points=\"227,-401 227,-422 328,-422 328,-401 227,-401\"/>\n<text text-anchor=\"start\" x=\"232\" y=\"-409\" font-family=\"Linux libertine\" font-size=\"10.00\">(1, 512, 7, 7) </text>\n<polygon fill=\"none\" stroke=\"black\" points=\"168,-380 168,-401 227,-401 227,-380 168,-380\"/>\n<text text-anchor=\"start\" x=\"173\" y=\"-388\" font-family=\"Linux libertine\" font-size=\"10.00\">output: </text>\n<polygon fill=\"none\" stroke=\"black\" points=\"227,-380 227,-401 328,-401 328,-380 227,-380\"/>\n<text text-anchor=\"start\" x=\"232\" y=\"-388\" font-family=\"Linux libertine\" font-size=\"10.00\">(1, 512, 7, 7) </text>\n</g>\n<!-- 36&#45;&gt;37 -->\n<g id=\"edge45\" class=\"edge\">\n<title>36&#45;&gt;37</title>\n<path fill=\"none\" stroke=\"black\" d=\"M212,-457.63C212,-449.82 212,-440.73 212,-432.18\"/>\n<polygon fill=\"black\" stroke=\"black\" points=\"215.5,-432.16 212,-422.16 208.5,-432.16 215.5,-432.16\"/>\n</g>\n<!-- 37&#45;&gt;38 -->\n<g id=\"edge46\" class=\"edge\">\n<title>37&#45;&gt;38</title>\n<path fill=\"none\" stroke=\"black\" d=\"M212.54,-379.63C212.74,-371.82 212.98,-362.73 213.21,-354.18\"/>\n<polygon fill=\"black\" stroke=\"black\" points=\"216.71,-354.25 213.47,-344.16 209.71,-354.06 216.71,-354.25\"/>\n</g>\n<!-- 39 -->\n<g id=\"node40\" class=\"node\">\n<title>39</title>\n<polygon fill=\"#c1ffc1\" stroke=\"transparent\" points=\"320.5,-266 107.5,-266 107.5,-224 320.5,-224 320.5,-266\"/>\n<polygon fill=\"none\" stroke=\"black\" points=\"108,-224 108,-266 161,-266 161,-224 108,-224\"/>\n<text text-anchor=\"start\" x=\"122\" y=\"-248\" font-family=\"Linux libertine\" font-size=\"10.00\">ReLU</text>\n<text text-anchor=\"start\" x=\"113\" y=\"-237\" font-family=\"Linux libertine\" font-size=\"10.00\">depth:3</text>\n<polygon fill=\"none\" stroke=\"black\" points=\"161,-245 161,-266 220,-266 220,-245 161,-245\"/>\n<text text-anchor=\"start\" x=\"172\" y=\"-253\" font-family=\"Linux libertine\" font-size=\"10.00\">input:</text>\n<polygon fill=\"none\" stroke=\"black\" points=\"220,-245 220,-266 321,-266 321,-245 220,-245\"/>\n<text text-anchor=\"start\" x=\"225\" y=\"-253\" font-family=\"Linux libertine\" font-size=\"10.00\">(1, 512, 7, 7) </text>\n<polygon fill=\"none\" stroke=\"black\" points=\"161,-224 161,-245 220,-245 220,-224 161,-224\"/>\n<text text-anchor=\"start\" x=\"166\" y=\"-232\" font-family=\"Linux libertine\" font-size=\"10.00\">output: </text>\n<polygon fill=\"none\" stroke=\"black\" points=\"220,-224 220,-245 321,-245 321,-224 220,-224\"/>\n<text text-anchor=\"start\" x=\"225\" y=\"-232\" font-family=\"Linux libertine\" font-size=\"10.00\">(1, 512, 7, 7) </text>\n</g>\n<!-- 38&#45;&gt;39 -->\n<g id=\"edge47\" class=\"edge\">\n<title>38&#45;&gt;39</title>\n<path fill=\"none\" stroke=\"black\" d=\"M214,-301.63C214,-293.82 214,-284.73 214,-276.18\"/>\n<polygon fill=\"black\" stroke=\"black\" points=\"217.5,-276.16 214,-266.16 210.5,-276.16 217.5,-276.16\"/>\n</g>\n<!-- 40 -->\n<g id=\"node41\" class=\"node\">\n<title>40</title>\n<polygon fill=\"#c1ffc1\" stroke=\"transparent\" points=\"326.5,-188 101.5,-188 101.5,-146 326.5,-146 326.5,-188\"/>\n<polygon fill=\"none\" stroke=\"black\" points=\"102,-146 102,-188 167,-188 167,-146 102,-146\"/>\n<text text-anchor=\"start\" x=\"107\" y=\"-170\" font-family=\"Linux libertine\" font-size=\"10.00\">AvgPool2d</text>\n<text text-anchor=\"start\" x=\"113\" y=\"-159\" font-family=\"Linux libertine\" font-size=\"10.00\">depth:1</text>\n<polygon fill=\"none\" stroke=\"black\" points=\"167,-167 167,-188 226,-188 226,-167 167,-167\"/>\n<text text-anchor=\"start\" x=\"178\" y=\"-175\" font-family=\"Linux libertine\" font-size=\"10.00\">input:</text>\n<polygon fill=\"none\" stroke=\"black\" points=\"226,-167 226,-188 327,-188 327,-167 226,-167\"/>\n<text text-anchor=\"start\" x=\"231\" y=\"-175\" font-family=\"Linux libertine\" font-size=\"10.00\">(1, 512, 7, 7) </text>\n<polygon fill=\"none\" stroke=\"black\" points=\"167,-146 167,-167 226,-167 226,-146 167,-146\"/>\n<text text-anchor=\"start\" x=\"172\" y=\"-154\" font-family=\"Linux libertine\" font-size=\"10.00\">output: </text>\n<polygon fill=\"none\" stroke=\"black\" points=\"226,-146 226,-167 327,-167 327,-146 226,-146\"/>\n<text text-anchor=\"start\" x=\"231\" y=\"-154\" font-family=\"Linux libertine\" font-size=\"10.00\">(1, 512, 1, 1) </text>\n</g>\n<!-- 39&#45;&gt;40 -->\n<g id=\"edge48\" class=\"edge\">\n<title>39&#45;&gt;40</title>\n<path fill=\"none\" stroke=\"black\" d=\"M214,-223.63C214,-215.82 214,-206.73 214,-198.18\"/>\n<polygon fill=\"black\" stroke=\"black\" points=\"217.5,-198.16 214,-188.16 210.5,-198.16 217.5,-198.16\"/>\n</g>\n<!-- 41 -->\n<g id=\"node42\" class=\"node\">\n<title>41</title>\n<polygon fill=\"aliceblue\" stroke=\"transparent\" points=\"320.5,-110 107.5,-110 107.5,-68 320.5,-68 320.5,-110\"/>\n<polygon fill=\"none\" stroke=\"black\" points=\"108,-68 108,-110 161,-110 161,-68 108,-68\"/>\n<text text-anchor=\"start\" x=\"122\" y=\"-92\" font-family=\"Linux libertine\" font-size=\"10.00\">view</text>\n<text text-anchor=\"start\" x=\"113\" y=\"-81\" font-family=\"Linux libertine\" font-size=\"10.00\">depth:1</text>\n<polygon fill=\"none\" stroke=\"black\" points=\"161,-89 161,-110 220,-110 220,-89 161,-89\"/>\n<text text-anchor=\"start\" x=\"172\" y=\"-97\" font-family=\"Linux libertine\" font-size=\"10.00\">input:</text>\n<polygon fill=\"none\" stroke=\"black\" points=\"220,-89 220,-110 321,-110 321,-89 220,-89\"/>\n<text text-anchor=\"start\" x=\"225\" y=\"-97\" font-family=\"Linux libertine\" font-size=\"10.00\">(1, 512, 1, 1) </text>\n<polygon fill=\"none\" stroke=\"black\" points=\"161,-68 161,-89 220,-89 220,-68 161,-68\"/>\n<text text-anchor=\"start\" x=\"166\" y=\"-76\" font-family=\"Linux libertine\" font-size=\"10.00\">output: </text>\n<polygon fill=\"none\" stroke=\"black\" points=\"220,-68 220,-89 321,-89 321,-68 220,-68\"/>\n<text text-anchor=\"start\" x=\"243\" y=\"-76\" font-family=\"Linux libertine\" font-size=\"10.00\">(1, 512) </text>\n</g>\n<!-- 40&#45;&gt;41 -->\n<g id=\"edge49\" class=\"edge\">\n<title>40&#45;&gt;41</title>\n<path fill=\"none\" stroke=\"black\" d=\"M214,-145.63C214,-137.82 214,-128.73 214,-120.18\"/>\n<polygon fill=\"black\" stroke=\"black\" points=\"217.5,-120.16 214,-110.16 210.5,-120.16 217.5,-120.16\"/>\n</g>\n<!-- 42 -->\n<g id=\"node43\" class=\"node\">\n<title>42</title>\n<polygon fill=\"lightyellow\" stroke=\"transparent\" points=\"288,-32 140,-32 140,0 288,0 288,-32\"/>\n<polygon fill=\"none\" stroke=\"black\" points=\"140,0 140,-32 229,-32 229,0 140,0\"/>\n<text text-anchor=\"start\" x=\"145\" y=\"-19\" font-family=\"Linux libertine\" font-size=\"10.00\">output&#45;tensor</text>\n<text text-anchor=\"start\" x=\"163\" y=\"-8\" font-family=\"Linux libertine\" font-size=\"10.00\">depth:0</text>\n<polygon fill=\"none\" stroke=\"black\" points=\"229,0 229,-32 288,-32 288,0 229,0\"/>\n<text text-anchor=\"start\" x=\"234\" y=\"-13.5\" font-family=\"Linux libertine\" font-size=\"10.00\">(1, 512)</text>\n</g>\n<!-- 41&#45;&gt;42 -->\n<g id=\"edge50\" class=\"edge\">\n<title>41&#45;&gt;42</title>\n<path fill=\"none\" stroke=\"black\" d=\"M214,-67.84C214,-59.89 214,-50.66 214,-42.26\"/>\n<polygon fill=\"black\" stroke=\"black\" points=\"217.5,-42.24 214,-32.24 210.5,-42.24 217.5,-42.24\"/>\n</g>\n</g>\n</svg>\n",
            "text/plain": [
              "<graphviz.graphs.Digraph at 0x7d41c2bde890>"
            ]
          },
          "metadata": {},
          "execution_count": 7
        }
      ]
    },
    {
      "cell_type": "code",
      "source": [
        "from torchvision import datasets, transforms\n",
        "from torch.utils.data import DataLoader"
      ],
      "metadata": {
        "id": "Zlk-kwGkITF0"
      },
      "execution_count": 8,
      "outputs": []
    },
    {
      "cell_type": "code",
      "source": [
        "transform = transforms.Compose([\n",
        "    transforms.Resize((224, 224)),\n",
        "    transforms.ToTensor(),\n",
        "    transforms.Normalize((0.5,), (0.5,))\n",
        "])\n",
        "\n",
        "train_dataset = datasets.MNIST(root='./data', train=True, transform=transform, download=True)\n",
        "test_dataset = datasets.MNIST(root='./data', train=False, transform=transform, download=True)\n",
        "\n",
        "train_loader = DataLoader(train_dataset, batch_size=64, shuffle=True)\n",
        "test_loader = DataLoader(test_dataset, batch_size=64, shuffle=False)"
      ],
      "metadata": {
        "colab": {
          "base_uri": "https://localhost:8080/"
        },
        "id": "MvtYkk929E_b",
        "outputId": "7250d598-e5ed-4735-f3c1-b220a0688844"
      },
      "execution_count": 9,
      "outputs": [
        {
          "output_type": "stream",
          "name": "stdout",
          "text": [
            "Downloading http://yann.lecun.com/exdb/mnist/train-images-idx3-ubyte.gz\n",
            "Failed to download (trying next):\n",
            "<urlopen error [Errno 111] Connection refused>\n",
            "\n",
            "Downloading https://ossci-datasets.s3.amazonaws.com/mnist/train-images-idx3-ubyte.gz\n",
            "Downloading https://ossci-datasets.s3.amazonaws.com/mnist/train-images-idx3-ubyte.gz to ./data/MNIST/raw/train-images-idx3-ubyte.gz\n"
          ]
        },
        {
          "output_type": "stream",
          "name": "stderr",
          "text": [
            "100%|██████████| 9.91M/9.91M [00:00<00:00, 16.3MB/s]\n"
          ]
        },
        {
          "output_type": "stream",
          "name": "stdout",
          "text": [
            "Extracting ./data/MNIST/raw/train-images-idx3-ubyte.gz to ./data/MNIST/raw\n",
            "\n",
            "Downloading http://yann.lecun.com/exdb/mnist/train-labels-idx1-ubyte.gz\n",
            "Failed to download (trying next):\n",
            "<urlopen error [Errno 111] Connection refused>\n",
            "\n",
            "Downloading https://ossci-datasets.s3.amazonaws.com/mnist/train-labels-idx1-ubyte.gz\n",
            "Downloading https://ossci-datasets.s3.amazonaws.com/mnist/train-labels-idx1-ubyte.gz to ./data/MNIST/raw/train-labels-idx1-ubyte.gz\n"
          ]
        },
        {
          "output_type": "stream",
          "name": "stderr",
          "text": [
            "100%|██████████| 28.9k/28.9k [00:00<00:00, 494kB/s]\n"
          ]
        },
        {
          "output_type": "stream",
          "name": "stdout",
          "text": [
            "Extracting ./data/MNIST/raw/train-labels-idx1-ubyte.gz to ./data/MNIST/raw\n",
            "\n",
            "Downloading http://yann.lecun.com/exdb/mnist/t10k-images-idx3-ubyte.gz\n",
            "Failed to download (trying next):\n",
            "<urlopen error [Errno 111] Connection refused>\n",
            "\n",
            "Downloading https://ossci-datasets.s3.amazonaws.com/mnist/t10k-images-idx3-ubyte.gz\n",
            "Downloading https://ossci-datasets.s3.amazonaws.com/mnist/t10k-images-idx3-ubyte.gz to ./data/MNIST/raw/t10k-images-idx3-ubyte.gz\n"
          ]
        },
        {
          "output_type": "stream",
          "name": "stderr",
          "text": [
            "100%|██████████| 1.65M/1.65M [00:00<00:00, 4.56MB/s]\n"
          ]
        },
        {
          "output_type": "stream",
          "name": "stdout",
          "text": [
            "Extracting ./data/MNIST/raw/t10k-images-idx3-ubyte.gz to ./data/MNIST/raw\n",
            "\n",
            "Downloading http://yann.lecun.com/exdb/mnist/t10k-labels-idx1-ubyte.gz\n",
            "Failed to download (trying next):\n",
            "<urlopen error [Errno 111] Connection refused>\n",
            "\n",
            "Downloading https://ossci-datasets.s3.amazonaws.com/mnist/t10k-labels-idx1-ubyte.gz\n",
            "Downloading https://ossci-datasets.s3.amazonaws.com/mnist/t10k-labels-idx1-ubyte.gz to ./data/MNIST/raw/t10k-labels-idx1-ubyte.gz\n"
          ]
        },
        {
          "output_type": "stream",
          "name": "stderr",
          "text": [
            "100%|██████████| 4.54k/4.54k [00:00<00:00, 4.16MB/s]"
          ]
        },
        {
          "output_type": "stream",
          "name": "stdout",
          "text": [
            "Extracting ./data/MNIST/raw/t10k-labels-idx1-ubyte.gz to ./data/MNIST/raw\n",
            "\n"
          ]
        },
        {
          "output_type": "stream",
          "name": "stderr",
          "text": [
            "\n"
          ]
        }
      ]
    },
    {
      "cell_type": "code",
      "source": [
        "device = torch.device(\"cuda\" if torch.cuda.is_available() else \"cpu\")"
      ],
      "metadata": {
        "id": "gJfGJ4CtIvs_"
      },
      "execution_count": 10,
      "outputs": []
    },
    {
      "cell_type": "code",
      "source": [
        "model = ResNet18(ResidualBlock, [2, 2, 2, 2], num_classes=10)\n",
        "model.conv1[0] = nn.Conv2d(1, 64, kernel_size=7, stride=2, padding=3)\n",
        "model = model.to(device)"
      ],
      "metadata": {
        "id": "SXnauT0AJLDh"
      },
      "execution_count": 12,
      "outputs": []
    },
    {
      "cell_type": "code",
      "source": [
        "criterion = nn.CrossEntropyLoss()\n",
        "optimizer = torch.optim.Adam(model.parameters(), lr=0.001)"
      ],
      "metadata": {
        "id": "IiYDVrElJP_D"
      },
      "execution_count": 14,
      "outputs": []
    },
    {
      "cell_type": "code",
      "source": [
        "for epoch in range(10):\n",
        "    model.train()\n",
        "    running_loss = 0.0\n",
        "    for images, labels in train_loader:\n",
        "        images, labels = images.to(device), labels.to(device)\n",
        "        outputs = model(images)\n",
        "        loss = criterion(outputs, labels)\n",
        "        optimizer.zero_grad()\n",
        "        loss.backward()\n",
        "        optimizer.step()\n",
        "\n",
        "        running_loss += loss.item()\n",
        "    print(f\"Epoch {epoch+1}, Loss: {running_loss/len(train_loader)}\")"
      ],
      "metadata": {
        "colab": {
          "base_uri": "https://localhost:8080/"
        },
        "id": "NeQm0DfJJYrW",
        "outputId": "87ac764d-739f-4a7a-fff0-9728a4f06cf4"
      },
      "execution_count": 15,
      "outputs": [
        {
          "output_type": "stream",
          "name": "stdout",
          "text": [
            "Epoch 1, Loss: 0.35107403149856115\n",
            "Epoch 2, Loss: 0.07905011792589765\n",
            "Epoch 3, Loss: 0.05248050768720681\n",
            "Epoch 4, Loss: 0.041169144591735575\n",
            "Epoch 5, Loss: 0.03364058065914245\n",
            "Epoch 6, Loss: 0.030039645983392736\n",
            "Epoch 7, Loss: 0.02463850585987289\n",
            "Epoch 8, Loss: 0.021526648151588494\n",
            "Epoch 9, Loss: 0.021216760479114347\n",
            "Epoch 10, Loss: 0.017266682555075182\n"
          ]
        }
      ]
    },
    {
      "cell_type": "code",
      "source": [
        "model.eval()\n",
        "correct = 0\n",
        "total = 0\n",
        "\n",
        "with torch.no_grad():\n",
        "    for images, labels in test_loader:\n",
        "        images, labels = images.to(device), labels.to(device)\n",
        "        outputs = model(images)\n",
        "        _, predicted = torch.max(outputs.data, 1)\n",
        "        total += labels.size(0)\n",
        "        correct += (predicted == labels).sum().item()\n",
        "\n",
        "print(f\"Test Accuracy: {100 * correct / total:.2f}%\")"
      ],
      "metadata": {
        "colab": {
          "base_uri": "https://localhost:8080/"
        },
        "id": "XFcCqq3vKH-P",
        "outputId": "b33fe460-614f-43f7-ddac-eadb877a5844"
      },
      "execution_count": 16,
      "outputs": [
        {
          "output_type": "stream",
          "name": "stdout",
          "text": [
            "Test Accuracy: 99.57%\n"
          ]
        }
      ]
    },
    {
      "cell_type": "code",
      "source": [
        "torch.save(model.state_dict(), 'ResNet_MNIST_classifier.pt')"
      ],
      "metadata": {
        "id": "22NlE_sqLE8O"
      },
      "execution_count": 17,
      "outputs": []
    },
    {
      "cell_type": "code",
      "source": [
        "from google.colab import files\n",
        "files.download('ResNet_MNIST_classifier.pt')"
      ],
      "metadata": {
        "colab": {
          "base_uri": "https://localhost:8080/",
          "height": 17
        },
        "id": "03kUmHshRdxj",
        "outputId": "1a223dac-8f16-417c-aa3b-a0e9366488a4"
      },
      "execution_count": 18,
      "outputs": [
        {
          "output_type": "display_data",
          "data": {
            "text/plain": [
              "<IPython.core.display.Javascript object>"
            ],
            "application/javascript": [
              "\n",
              "    async function download(id, filename, size) {\n",
              "      if (!google.colab.kernel.accessAllowed) {\n",
              "        return;\n",
              "      }\n",
              "      const div = document.createElement('div');\n",
              "      const label = document.createElement('label');\n",
              "      label.textContent = `Downloading \"${filename}\": `;\n",
              "      div.appendChild(label);\n",
              "      const progress = document.createElement('progress');\n",
              "      progress.max = size;\n",
              "      div.appendChild(progress);\n",
              "      document.body.appendChild(div);\n",
              "\n",
              "      const buffers = [];\n",
              "      let downloaded = 0;\n",
              "\n",
              "      const channel = await google.colab.kernel.comms.open(id);\n",
              "      // Send a message to notify the kernel that we're ready.\n",
              "      channel.send({})\n",
              "\n",
              "      for await (const message of channel.messages) {\n",
              "        // Send a message to notify the kernel that we're ready.\n",
              "        channel.send({})\n",
              "        if (message.buffers) {\n",
              "          for (const buffer of message.buffers) {\n",
              "            buffers.push(buffer);\n",
              "            downloaded += buffer.byteLength;\n",
              "            progress.value = downloaded;\n",
              "          }\n",
              "        }\n",
              "      }\n",
              "      const blob = new Blob(buffers, {type: 'application/binary'});\n",
              "      const a = document.createElement('a');\n",
              "      a.href = window.URL.createObjectURL(blob);\n",
              "      a.download = filename;\n",
              "      div.appendChild(a);\n",
              "      a.click();\n",
              "      div.remove();\n",
              "    }\n",
              "  "
            ]
          },
          "metadata": {}
        },
        {
          "output_type": "display_data",
          "data": {
            "text/plain": [
              "<IPython.core.display.Javascript object>"
            ],
            "application/javascript": [
              "download(\"download_d400c381-69b6-43af-9676-985f8f9ef3a8\", \"ResNet_MNIST_classifier.pt\", 44809462)"
            ]
          },
          "metadata": {}
        }
      ]
    },
    {
      "cell_type": "code",
      "source": [],
      "metadata": {
        "id": "CUwTVxivRpnN"
      },
      "execution_count": null,
      "outputs": []
    }
  ]
}